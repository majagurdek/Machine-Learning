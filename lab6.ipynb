{
  "cells": [
    {
      "cell_type": "markdown",
      "metadata": {
        "id": "view-in-github",
        "colab_type": "text"
      },
      "source": [
        "<a href=\"https://colab.research.google.com/github/majagurdek/Machine-Learning/blob/main/lab6.ipynb\" target=\"_parent\"><img src=\"https://colab.research.google.com/assets/colab-badge.svg\" alt=\"Open In Colab\"/></a>"
      ]
    },
    {
      "cell_type": "code",
      "execution_count": null,
      "id": "63d2080c",
      "metadata": {
        "id": "63d2080c"
      },
      "outputs": [],
      "source": [
        "import numpy as np\n",
        "import pandas as pd"
      ]
    },
    {
      "cell_type": "code",
      "execution_count": null,
      "id": "8fc4086c",
      "metadata": {
        "id": "8fc4086c"
      },
      "outputs": [],
      "source": [
        "from sklearn import datasets\n",
        "data_breast_cancer = datasets.load_breast_cancer(as_frame=True)\n",
        "X_bc = data_breast_cancer[\"data\"][[\"mean texture\", \"mean symmetry\"]]\n",
        "y_bc = data_breast_cancer[\"target\"]"
      ]
    },
    {
      "cell_type": "code",
      "execution_count": null,
      "id": "c1e3d7ac",
      "metadata": {
        "colab": {
          "base_uri": "https://localhost:8080/",
          "height": 424
        },
        "id": "c1e3d7ac",
        "outputId": "b087913a-4c44-448b-b6db-c299434ba85e"
      },
      "outputs": [
        {
          "output_type": "execute_result",
          "data": {
            "text/plain": [
              "     mean texture  mean symmetry\n",
              "0           10.38         0.2419\n",
              "1           17.77         0.1812\n",
              "2           21.25         0.2069\n",
              "3           20.38         0.2597\n",
              "4           14.34         0.1809\n",
              "..            ...            ...\n",
              "564         22.39         0.1726\n",
              "565         28.25         0.1752\n",
              "566         28.08         0.1590\n",
              "567         29.33         0.2397\n",
              "568         24.54         0.1587\n",
              "\n",
              "[569 rows x 2 columns]"
            ],
            "text/html": [
              "\n",
              "  <div id=\"df-ad055ff2-d5c1-4275-9d7c-d5171a902600\">\n",
              "    <div class=\"colab-df-container\">\n",
              "      <div>\n",
              "<style scoped>\n",
              "    .dataframe tbody tr th:only-of-type {\n",
              "        vertical-align: middle;\n",
              "    }\n",
              "\n",
              "    .dataframe tbody tr th {\n",
              "        vertical-align: top;\n",
              "    }\n",
              "\n",
              "    .dataframe thead th {\n",
              "        text-align: right;\n",
              "    }\n",
              "</style>\n",
              "<table border=\"1\" class=\"dataframe\">\n",
              "  <thead>\n",
              "    <tr style=\"text-align: right;\">\n",
              "      <th></th>\n",
              "      <th>mean texture</th>\n",
              "      <th>mean symmetry</th>\n",
              "    </tr>\n",
              "  </thead>\n",
              "  <tbody>\n",
              "    <tr>\n",
              "      <th>0</th>\n",
              "      <td>10.38</td>\n",
              "      <td>0.2419</td>\n",
              "    </tr>\n",
              "    <tr>\n",
              "      <th>1</th>\n",
              "      <td>17.77</td>\n",
              "      <td>0.1812</td>\n",
              "    </tr>\n",
              "    <tr>\n",
              "      <th>2</th>\n",
              "      <td>21.25</td>\n",
              "      <td>0.2069</td>\n",
              "    </tr>\n",
              "    <tr>\n",
              "      <th>3</th>\n",
              "      <td>20.38</td>\n",
              "      <td>0.2597</td>\n",
              "    </tr>\n",
              "    <tr>\n",
              "      <th>4</th>\n",
              "      <td>14.34</td>\n",
              "      <td>0.1809</td>\n",
              "    </tr>\n",
              "    <tr>\n",
              "      <th>...</th>\n",
              "      <td>...</td>\n",
              "      <td>...</td>\n",
              "    </tr>\n",
              "    <tr>\n",
              "      <th>564</th>\n",
              "      <td>22.39</td>\n",
              "      <td>0.1726</td>\n",
              "    </tr>\n",
              "    <tr>\n",
              "      <th>565</th>\n",
              "      <td>28.25</td>\n",
              "      <td>0.1752</td>\n",
              "    </tr>\n",
              "    <tr>\n",
              "      <th>566</th>\n",
              "      <td>28.08</td>\n",
              "      <td>0.1590</td>\n",
              "    </tr>\n",
              "    <tr>\n",
              "      <th>567</th>\n",
              "      <td>29.33</td>\n",
              "      <td>0.2397</td>\n",
              "    </tr>\n",
              "    <tr>\n",
              "      <th>568</th>\n",
              "      <td>24.54</td>\n",
              "      <td>0.1587</td>\n",
              "    </tr>\n",
              "  </tbody>\n",
              "</table>\n",
              "<p>569 rows × 2 columns</p>\n",
              "</div>\n",
              "      <button class=\"colab-df-convert\" onclick=\"convertToInteractive('df-ad055ff2-d5c1-4275-9d7c-d5171a902600')\"\n",
              "              title=\"Convert this dataframe to an interactive table.\"\n",
              "              style=\"display:none;\">\n",
              "        \n",
              "  <svg xmlns=\"http://www.w3.org/2000/svg\" height=\"24px\"viewBox=\"0 0 24 24\"\n",
              "       width=\"24px\">\n",
              "    <path d=\"M0 0h24v24H0V0z\" fill=\"none\"/>\n",
              "    <path d=\"M18.56 5.44l.94 2.06.94-2.06 2.06-.94-2.06-.94-.94-2.06-.94 2.06-2.06.94zm-11 1L8.5 8.5l.94-2.06 2.06-.94-2.06-.94L8.5 2.5l-.94 2.06-2.06.94zm10 10l.94 2.06.94-2.06 2.06-.94-2.06-.94-.94-2.06-.94 2.06-2.06.94z\"/><path d=\"M17.41 7.96l-1.37-1.37c-.4-.4-.92-.59-1.43-.59-.52 0-1.04.2-1.43.59L10.3 9.45l-7.72 7.72c-.78.78-.78 2.05 0 2.83L4 21.41c.39.39.9.59 1.41.59.51 0 1.02-.2 1.41-.59l7.78-7.78 2.81-2.81c.8-.78.8-2.07 0-2.86zM5.41 20L4 18.59l7.72-7.72 1.47 1.35L5.41 20z\"/>\n",
              "  </svg>\n",
              "      </button>\n",
              "      \n",
              "  <style>\n",
              "    .colab-df-container {\n",
              "      display:flex;\n",
              "      flex-wrap:wrap;\n",
              "      gap: 12px;\n",
              "    }\n",
              "\n",
              "    .colab-df-convert {\n",
              "      background-color: #E8F0FE;\n",
              "      border: none;\n",
              "      border-radius: 50%;\n",
              "      cursor: pointer;\n",
              "      display: none;\n",
              "      fill: #1967D2;\n",
              "      height: 32px;\n",
              "      padding: 0 0 0 0;\n",
              "      width: 32px;\n",
              "    }\n",
              "\n",
              "    .colab-df-convert:hover {\n",
              "      background-color: #E2EBFA;\n",
              "      box-shadow: 0px 1px 2px rgba(60, 64, 67, 0.3), 0px 1px 3px 1px rgba(60, 64, 67, 0.15);\n",
              "      fill: #174EA6;\n",
              "    }\n",
              "\n",
              "    [theme=dark] .colab-df-convert {\n",
              "      background-color: #3B4455;\n",
              "      fill: #D2E3FC;\n",
              "    }\n",
              "\n",
              "    [theme=dark] .colab-df-convert:hover {\n",
              "      background-color: #434B5C;\n",
              "      box-shadow: 0px 1px 3px 1px rgba(0, 0, 0, 0.15);\n",
              "      filter: drop-shadow(0px 1px 2px rgba(0, 0, 0, 0.3));\n",
              "      fill: #FFFFFF;\n",
              "    }\n",
              "  </style>\n",
              "\n",
              "      <script>\n",
              "        const buttonEl =\n",
              "          document.querySelector('#df-ad055ff2-d5c1-4275-9d7c-d5171a902600 button.colab-df-convert');\n",
              "        buttonEl.style.display =\n",
              "          google.colab.kernel.accessAllowed ? 'block' : 'none';\n",
              "\n",
              "        async function convertToInteractive(key) {\n",
              "          const element = document.querySelector('#df-ad055ff2-d5c1-4275-9d7c-d5171a902600');\n",
              "          const dataTable =\n",
              "            await google.colab.kernel.invokeFunction('convertToInteractive',\n",
              "                                                     [key], {});\n",
              "          if (!dataTable) return;\n",
              "\n",
              "          const docLinkHtml = 'Like what you see? Visit the ' +\n",
              "            '<a target=\"_blank\" href=https://colab.research.google.com/notebooks/data_table.ipynb>data table notebook</a>'\n",
              "            + ' to learn more about interactive tables.';\n",
              "          element.innerHTML = '';\n",
              "          dataTable['output_type'] = 'display_data';\n",
              "          await google.colab.output.renderOutput(dataTable, element);\n",
              "          const docLink = document.createElement('div');\n",
              "          docLink.innerHTML = docLinkHtml;\n",
              "          element.appendChild(docLink);\n",
              "        }\n",
              "      </script>\n",
              "    </div>\n",
              "  </div>\n",
              "  "
            ]
          },
          "metadata": {},
          "execution_count": 3
        }
      ],
      "source": [
        "X_bc"
      ]
    },
    {
      "cell_type": "code",
      "execution_count": null,
      "id": "a50807b5",
      "metadata": {
        "colab": {
          "base_uri": "https://localhost:8080/"
        },
        "id": "a50807b5",
        "outputId": "8dce9912-80fd-4d4c-ad3b-0c6b0861faa1"
      },
      "outputs": [
        {
          "output_type": "execute_result",
          "data": {
            "text/plain": [
              "0      0\n",
              "1      0\n",
              "2      0\n",
              "3      0\n",
              "4      0\n",
              "      ..\n",
              "564    0\n",
              "565    0\n",
              "566    0\n",
              "567    0\n",
              "568    1\n",
              "Name: target, Length: 569, dtype: int64"
            ]
          },
          "metadata": {},
          "execution_count": 4
        }
      ],
      "source": [
        "y_bc"
      ]
    },
    {
      "cell_type": "code",
      "execution_count": null,
      "id": "961c3949",
      "metadata": {
        "id": "961c3949"
      },
      "outputs": [],
      "source": [
        "from sklearn.model_selection import train_test_split\n",
        "X_bc_train, X_bc_test, y_bc_train, y_bc_test = train_test_split(X_bc, y_bc, test_size=0.2)"
      ]
    },
    {
      "cell_type": "code",
      "execution_count": null,
      "id": "39cf7d85",
      "metadata": {
        "id": "39cf7d85"
      },
      "outputs": [],
      "source": [
        "#budowanie ensembli"
      ]
    },
    {
      "cell_type": "code",
      "execution_count": null,
      "id": "982c31f5",
      "metadata": {
        "id": "982c31f5"
      },
      "outputs": [],
      "source": [
        "from sklearn.ensemble import VotingClassifier\n",
        "from sklearn.tree import DecisionTreeClassifier\n",
        "from sklearn.linear_model import LogisticRegression\n",
        "from sklearn.neighbors import KNeighborsClassifier"
      ]
    },
    {
      "cell_type": "code",
      "execution_count": null,
      "id": "d8bde4f1",
      "metadata": {
        "id": "d8bde4f1"
      },
      "outputs": [],
      "source": [
        "tree_clf = DecisionTreeClassifier()\n",
        "log_clf = LogisticRegression(solver=\"lbfgs\")\n",
        "knn_clf = KNeighborsClassifier()"
      ]
    },
    {
      "cell_type": "code",
      "execution_count": null,
      "id": "a9087ce9",
      "metadata": {
        "colab": {
          "base_uri": "https://localhost:8080/"
        },
        "id": "a9087ce9",
        "outputId": "0d5b4f6c-601a-4206-ba7a-d98a6928fa7c"
      },
      "outputs": [
        {
          "output_type": "execute_result",
          "data": {
            "text/plain": [
              "VotingClassifier(estimators=[('dt', DecisionTreeClassifier()),\n",
              "                             ('lr', LogisticRegression()),\n",
              "                             ('kn', KNeighborsClassifier())])"
            ]
          },
          "metadata": {},
          "execution_count": 9
        }
      ],
      "source": [
        "voting_clf_hard = VotingClassifier(\n",
        "    estimators=[('dt', tree_clf),\n",
        "                ('lr', log_clf),\n",
        "                ('kn', knn_clf)],\n",
        "    voting='hard')\n",
        "voting_clf_hard.fit(X_bc_train, y_bc_train)"
      ]
    },
    {
      "cell_type": "code",
      "execution_count": null,
      "id": "5d2f8cdb",
      "metadata": {
        "colab": {
          "base_uri": "https://localhost:8080/"
        },
        "id": "5d2f8cdb",
        "outputId": "4723b3c8-6ec3-4d30-ae03-6fc230b815a2"
      },
      "outputs": [
        {
          "output_type": "execute_result",
          "data": {
            "text/plain": [
              "VotingClassifier(estimators=[('dt', DecisionTreeClassifier()),\n",
              "                             ('lr', LogisticRegression()),\n",
              "                             ('kn', KNeighborsClassifier())],\n",
              "                 voting='soft')"
            ]
          },
          "metadata": {},
          "execution_count": 10
        }
      ],
      "source": [
        "voting_clf_soft = VotingClassifier(\n",
        "    estimators=[('dt', tree_clf),\n",
        "                ('lr', log_clf),\n",
        "                ('kn', knn_clf)],\n",
        "    voting='soft')\n",
        "voting_clf_soft.fit(X_bc_train, y_bc_train)"
      ]
    },
    {
      "cell_type": "code",
      "execution_count": null,
      "id": "9d0014d3",
      "metadata": {
        "id": "9d0014d3"
      },
      "outputs": [],
      "source": [
        "#accuracy"
      ]
    },
    {
      "cell_type": "code",
      "execution_count": null,
      "id": "64a35444",
      "metadata": {
        "id": "64a35444"
      },
      "outputs": [],
      "source": [
        "from sklearn.metrics import accuracy_score"
      ]
    },
    {
      "cell_type": "code",
      "execution_count": null,
      "id": "aa19dac2",
      "metadata": {
        "id": "aa19dac2"
      },
      "outputs": [],
      "source": [
        "#zapisac jako liste par train, test"
      ]
    },
    {
      "cell_type": "code",
      "execution_count": null,
      "id": "95c75cfa",
      "metadata": {
        "id": "95c75cfa"
      },
      "outputs": [],
      "source": [
        "list1 = []\n",
        "list2 = []"
      ]
    },
    {
      "cell_type": "code",
      "execution_count": null,
      "id": "92b49952",
      "metadata": {
        "colab": {
          "base_uri": "https://localhost:8080/"
        },
        "id": "92b49952",
        "outputId": "dba1826d-10f9-49ae-a3a5-10c8f82d00c9"
      },
      "outputs": [
        {
          "output_type": "stream",
          "name": "stdout",
          "text": [
            "DecisionTreeClassifier 1.0 DecisionTreeClassifier 0.7368421052631579\n",
            "LogisticRegression 0.7142857142857143 LogisticRegression 0.7543859649122807\n",
            "KNeighborsClassifier 0.756043956043956 KNeighborsClassifier 0.6754385964912281\n",
            "VotingClassifier 0.8351648351648352 VotingClassifier 0.7017543859649122\n",
            "VotingClassifier 0.9648351648351648 VotingClassifier 0.7192982456140351\n"
          ]
        }
      ],
      "source": [
        "for clf in (tree_clf, log_clf, knn_clf, voting_clf_hard, voting_clf_soft):\n",
        "    clf.fit(X_bc_train, y_bc_train)\n",
        "    list2.append(clf)\n",
        "    y_pred_train = clf.predict(X_bc_train)\n",
        "    y_pred_test = clf.predict(X_bc_test)\n",
        "    print(clf.__class__.__name__,accuracy_score(y_bc_train, y_pred_train), clf.__class__.__name__,\n",
        "          accuracy_score(y_bc_test, y_pred_test))\n",
        "    list1.append((accuracy_score(y_bc_train, y_pred_train), accuracy_score(y_bc_test, y_pred_test)))"
      ]
    },
    {
      "cell_type": "code",
      "execution_count": null,
      "id": "cbc02581",
      "metadata": {
        "colab": {
          "base_uri": "https://localhost:8080/"
        },
        "id": "cbc02581",
        "outputId": "3cb4e8da-d57c-44d2-d34d-ee58ad27a83c"
      },
      "outputs": [
        {
          "output_type": "execute_result",
          "data": {
            "text/plain": [
              "[(1.0, 0.7368421052631579),\n",
              " (0.7142857142857143, 0.7543859649122807),\n",
              " (0.756043956043956, 0.6754385964912281),\n",
              " (0.8351648351648352, 0.7017543859649122),\n",
              " (0.9648351648351648, 0.7192982456140351)]"
            ]
          },
          "metadata": {},
          "execution_count": 16
        }
      ],
      "source": [
        "list1"
      ]
    },
    {
      "cell_type": "code",
      "execution_count": null,
      "id": "16e550f3",
      "metadata": {
        "id": "16e550f3"
      },
      "outputs": [],
      "source": [
        "import pickle"
      ]
    },
    {
      "cell_type": "code",
      "execution_count": null,
      "id": "d87983f2",
      "metadata": {
        "id": "d87983f2"
      },
      "outputs": [],
      "source": [
        "with open('acc_vote.pkl', 'wb') as f:\n",
        "    pickle.dump(list1, f, pickle.HIGHEST_PROTOCOL)"
      ]
    },
    {
      "cell_type": "code",
      "execution_count": null,
      "id": "99d5500a",
      "metadata": {
        "colab": {
          "base_uri": "https://localhost:8080/"
        },
        "id": "99d5500a",
        "outputId": "97afbcdb-cc99-4784-aa75-8c97069d2009"
      },
      "outputs": [
        {
          "output_type": "stream",
          "name": "stdout",
          "text": [
            "[(1.0, 0.7368421052631579), (0.7142857142857143, 0.7543859649122807), (0.756043956043956, 0.6754385964912281), (0.8351648351648352, 0.7017543859649122), (0.9648351648351648, 0.7192982456140351)]\n"
          ]
        }
      ],
      "source": [
        "with open('acc_vote.pkl', 'rb') as f:\n",
        "    print(pickle.load(f))"
      ]
    },
    {
      "cell_type": "code",
      "execution_count": null,
      "id": "3b3fb954",
      "metadata": {
        "colab": {
          "base_uri": "https://localhost:8080/"
        },
        "id": "3b3fb954",
        "outputId": "67d59a88-b65d-4b9f-88a9-037a906773d6"
      },
      "outputs": [
        {
          "output_type": "execute_result",
          "data": {
            "text/plain": [
              "[DecisionTreeClassifier(),\n",
              " LogisticRegression(),\n",
              " KNeighborsClassifier(),\n",
              " VotingClassifier(estimators=[('dt', DecisionTreeClassifier()),\n",
              "                              ('lr', LogisticRegression()),\n",
              "                              ('kn', KNeighborsClassifier())]),\n",
              " VotingClassifier(estimators=[('dt', DecisionTreeClassifier()),\n",
              "                              ('lr', LogisticRegression()),\n",
              "                              ('kn', KNeighborsClassifier())],\n",
              "                  voting='soft')]"
            ]
          },
          "metadata": {},
          "execution_count": 20
        }
      ],
      "source": [
        "list2"
      ]
    },
    {
      "cell_type": "code",
      "execution_count": null,
      "id": "dd3b770c",
      "metadata": {
        "id": "dd3b770c"
      },
      "outputs": [],
      "source": [
        "with open('vote.pkl', 'wb') as f:\n",
        "    pickle.dump(list2, f, pickle.HIGHEST_PROTOCOL)"
      ]
    },
    {
      "cell_type": "code",
      "execution_count": null,
      "id": "204c5f0b",
      "metadata": {
        "colab": {
          "base_uri": "https://localhost:8080/"
        },
        "id": "204c5f0b",
        "outputId": "6e6084c9-e8af-45f0-d809-ad7a836bc97e"
      },
      "outputs": [
        {
          "output_type": "stream",
          "name": "stdout",
          "text": [
            "[DecisionTreeClassifier(), LogisticRegression(), KNeighborsClassifier(), VotingClassifier(estimators=[('dt', DecisionTreeClassifier()),\n",
            "                             ('lr', LogisticRegression()),\n",
            "                             ('kn', KNeighborsClassifier())]), VotingClassifier(estimators=[('dt', DecisionTreeClassifier()),\n",
            "                             ('lr', LogisticRegression()),\n",
            "                             ('kn', KNeighborsClassifier())],\n",
            "                 voting='soft')]\n"
          ]
        }
      ],
      "source": [
        "with open('vote.pkl', 'rb') as f:\n",
        "    print(pickle.load(f))"
      ]
    },
    {
      "cell_type": "code",
      "execution_count": null,
      "id": "339fa1bf",
      "metadata": {
        "id": "339fa1bf"
      },
      "outputs": [],
      "source": [
        "#bagging, pasting itp"
      ]
    },
    {
      "cell_type": "code",
      "source": [
        "from sklearn.ensemble import BaggingClassifier\n",
        "from sklearn.ensemble import RandomForestClassifier\n",
        "from sklearn.model_selection import cross_val_score\n",
        "from sklearn.ensemble import AdaBoostClassifier\n",
        "from sklearn.ensemble import GradientBoostingClassifier"
      ],
      "metadata": {
        "id": "-8J5wpRGLG2B"
      },
      "id": "-8J5wpRGLG2B",
      "execution_count": null,
      "outputs": []
    },
    {
      "cell_type": "code",
      "source": [
        "bag_clf = BaggingClassifier(DecisionTreeClassifier(), n_estimators=30,max_samples=1.0, bootstrap=True)\n",
        "bag_clf_half = BaggingClassifier(DecisionTreeClassifier(), n_estimators=30,max_samples=0.5, bootstrap=True)\n",
        "pas_clf = BaggingClassifier(DecisionTreeClassifier(), n_estimators=30,max_samples=1.0, bootstrap=False)\n",
        "pas_clf_half = BaggingClassifier(DecisionTreeClassifier(), n_estimators=30,max_samples=0.5, bootstrap=False)\n",
        "rnd_clf = RandomForestClassifier(n_estimators=30)\n",
        "ada_clf = AdaBoostClassifier(n_estimators=30)\n",
        "gb_clf = GradientBoostingClassifier(n_estimators=30)\n"
      ],
      "metadata": {
        "id": "4g5rslxlLG4Y"
      },
      "id": "4g5rslxlLG4Y",
      "execution_count": null,
      "outputs": []
    },
    {
      "cell_type": "code",
      "source": [
        "#accuracy"
      ],
      "metadata": {
        "id": "uAOWgHaTLG7o"
      },
      "id": "uAOWgHaTLG7o",
      "execution_count": null,
      "outputs": []
    },
    {
      "cell_type": "code",
      "source": [
        "from sklearn.metrics import accuracy_score"
      ],
      "metadata": {
        "id": "_sWb_1s2PNa1"
      },
      "id": "_sWb_1s2PNa1",
      "execution_count": null,
      "outputs": []
    },
    {
      "cell_type": "code",
      "source": [
        "acc_bag = []\n",
        "bag = []"
      ],
      "metadata": {
        "id": "_T9A4I20OUOp"
      },
      "id": "_T9A4I20OUOp",
      "execution_count": null,
      "outputs": []
    },
    {
      "cell_type": "code",
      "source": [
        "for clf in (bag_clf, bag_clf_half, pas_clf, pas_clf_half, rnd_clf, ada_clf, gb_clf):\n",
        "  clf.fit(X_bc_train, y_bc_train)\n",
        "  bag.append(clf)\n",
        "  acc_bag.append((\n",
        "        accuracy_score(y_bc_train, clf.predict(X_bc_train)),\n",
        "        accuracy_score(y_bc_test, clf.predict(X_bc_test))\n",
        "    ))"
      ],
      "metadata": {
        "id": "fUnnel0LOURr"
      },
      "id": "fUnnel0LOURr",
      "execution_count": null,
      "outputs": []
    },
    {
      "cell_type": "code",
      "source": [
        "acc_bag"
      ],
      "metadata": {
        "colab": {
          "base_uri": "https://localhost:8080/"
        },
        "id": "ASbge3aBRLp7",
        "outputId": "46d082fb-4fb0-47a6-aac7-9140b2ea76e3"
      },
      "id": "ASbge3aBRLp7",
      "execution_count": null,
      "outputs": [
        {
          "output_type": "execute_result",
          "data": {
            "text/plain": [
              "[(1.0, 0.7368421052631579),\n",
              " (0.9164835164835164, 0.7280701754385965),\n",
              " (1.0, 0.6666666666666666),\n",
              " (0.9604395604395605, 0.7192982456140351),\n",
              " (1.0, 0.7719298245614035),\n",
              " (0.8087912087912088, 0.7631578947368421),\n",
              " (0.8241758241758241, 0.7631578947368421)]"
            ]
          },
          "metadata": {},
          "execution_count": 30
        }
      ]
    },
    {
      "cell_type": "code",
      "source": [
        "with open('acc_bag.pkl', 'wb') as f:\n",
        "    pickle.dump(acc_bag, f, pickle.HIGHEST_PROTOCOL)"
      ],
      "metadata": {
        "id": "dTORH6OIQwPP"
      },
      "id": "dTORH6OIQwPP",
      "execution_count": null,
      "outputs": []
    },
    {
      "cell_type": "code",
      "source": [
        "with open('acc_bag.pkl', 'rb') as f:\n",
        "    print(pickle.load(f))"
      ],
      "metadata": {
        "colab": {
          "base_uri": "https://localhost:8080/"
        },
        "id": "74BxgZu2Q5bD",
        "outputId": "a7ecbf0d-d441-4256-bfed-3f6584d7282f"
      },
      "id": "74BxgZu2Q5bD",
      "execution_count": null,
      "outputs": [
        {
          "output_type": "stream",
          "name": "stdout",
          "text": [
            "[(1.0, 0.7368421052631579), (0.9164835164835164, 0.7280701754385965), (1.0, 0.6666666666666666), (0.9604395604395605, 0.7192982456140351), (1.0, 0.7719298245614035), (0.8087912087912088, 0.7631578947368421), (0.8241758241758241, 0.7631578947368421)]\n"
          ]
        }
      ]
    },
    {
      "cell_type": "code",
      "source": [
        "bag"
      ],
      "metadata": {
        "colab": {
          "base_uri": "https://localhost:8080/"
        },
        "id": "4ZwEFur2Q5d_",
        "outputId": "50772e8b-c62f-4871-977e-86ada27c7b83"
      },
      "id": "4ZwEFur2Q5d_",
      "execution_count": null,
      "outputs": [
        {
          "output_type": "execute_result",
          "data": {
            "text/plain": [
              "[BaggingClassifier(base_estimator=DecisionTreeClassifier(), n_estimators=30),\n",
              " BaggingClassifier(base_estimator=DecisionTreeClassifier(), max_samples=0.5,\n",
              "                   n_estimators=30),\n",
              " BaggingClassifier(base_estimator=DecisionTreeClassifier(), bootstrap=False,\n",
              "                   n_estimators=30),\n",
              " BaggingClassifier(base_estimator=DecisionTreeClassifier(), bootstrap=False,\n",
              "                   max_samples=0.5, n_estimators=30),\n",
              " RandomForestClassifier(n_estimators=30),\n",
              " AdaBoostClassifier(n_estimators=30),\n",
              " GradientBoostingClassifier(n_estimators=30)]"
            ]
          },
          "metadata": {},
          "execution_count": 33
        }
      ]
    },
    {
      "cell_type": "code",
      "source": [
        "with open('bag.pkl', 'wb') as f:\n",
        "    pickle.dump(bag, f, pickle.HIGHEST_PROTOCOL)"
      ],
      "metadata": {
        "id": "xmd-6wHOQ5g-"
      },
      "id": "xmd-6wHOQ5g-",
      "execution_count": null,
      "outputs": []
    },
    {
      "cell_type": "code",
      "source": [
        "with open('bag.pkl', 'rb') as f:\n",
        "    print(pickle.load(f))"
      ],
      "metadata": {
        "colab": {
          "base_uri": "https://localhost:8080/"
        },
        "id": "qILsOgllQ5kM",
        "outputId": "37f525ae-9156-4b98-aff1-895ea627d0b6"
      },
      "id": "qILsOgllQ5kM",
      "execution_count": null,
      "outputs": [
        {
          "output_type": "stream",
          "name": "stdout",
          "text": [
            "[BaggingClassifier(base_estimator=DecisionTreeClassifier(), n_estimators=30), BaggingClassifier(base_estimator=DecisionTreeClassifier(), max_samples=0.5,\n",
            "                  n_estimators=30), BaggingClassifier(base_estimator=DecisionTreeClassifier(), bootstrap=False,\n",
            "                  n_estimators=30), BaggingClassifier(base_estimator=DecisionTreeClassifier(), bootstrap=False,\n",
            "                  max_samples=0.5, n_estimators=30), RandomForestClassifier(n_estimators=30), AdaBoostClassifier(n_estimators=30), GradientBoostingClassifier(n_estimators=30)]\n"
          ]
        }
      ]
    },
    {
      "cell_type": "code",
      "source": [
        "#sampling cech"
      ],
      "metadata": {
        "id": "47l514z2Q5vc"
      },
      "id": "47l514z2Q5vc",
      "execution_count": null,
      "outputs": []
    },
    {
      "cell_type": "code",
      "source": [
        "X = data_breast_cancer[\"data\"]\n",
        "y = data_breast_cancer[\"target\"]"
      ],
      "metadata": {
        "id": "L2etXQkERj5c"
      },
      "id": "L2etXQkERj5c",
      "execution_count": null,
      "outputs": []
    },
    {
      "cell_type": "code",
      "source": [
        "X_train, X_test, y_train, y_test = train_test_split(X, y, test_size=0.2)"
      ],
      "metadata": {
        "id": "NA9uVuehRj8N"
      },
      "id": "NA9uVuehRj8N",
      "execution_count": null,
      "outputs": []
    },
    {
      "cell_type": "code",
      "source": [
        "acc_fea = []\n",
        "fea = []"
      ],
      "metadata": {
        "id": "DXT7RMggVLO0"
      },
      "id": "DXT7RMggVLO0",
      "execution_count": null,
      "outputs": []
    },
    {
      "cell_type": "code",
      "source": [
        "smpl = BaggingClassifier(DecisionTreeClassifier(), n_estimators=30, max_features=2,  max_samples=0.5, bootstrap_features=False, bootstrap = True)"
      ],
      "metadata": {
        "id": "mQGNpTakRkCH"
      },
      "id": "mQGNpTakRkCH",
      "execution_count": null,
      "outputs": []
    },
    {
      "cell_type": "code",
      "source": [
        "smpl.fit(X_train, y_train)\n",
        "fea.append(smpl)"
      ],
      "metadata": {
        "id": "CPycHHM8VKb6"
      },
      "id": "CPycHHM8VKb6",
      "execution_count": null,
      "outputs": []
    },
    {
      "cell_type": "code",
      "source": [
        "acc_fea.append((\n",
        "        accuracy_score(y_train, smpl.predict(X_train)),\n",
        "        accuracy_score(y_test, smpl.predict(X_test))))"
      ],
      "metadata": {
        "id": "9RobSHKPVLRY"
      },
      "id": "9RobSHKPVLRY",
      "execution_count": null,
      "outputs": []
    },
    {
      "cell_type": "code",
      "source": [
        "acc_fea"
      ],
      "metadata": {
        "colab": {
          "base_uri": "https://localhost:8080/"
        },
        "id": "omgjAlc5V0_N",
        "outputId": "6cca8f46-bc4d-419c-f455-efbc43a7df8b"
      },
      "id": "omgjAlc5V0_N",
      "execution_count": null,
      "outputs": [
        {
          "output_type": "execute_result",
          "data": {
            "text/plain": [
              "[(0.9978021978021978, 0.9385964912280702)]"
            ]
          },
          "metadata": {},
          "execution_count": 59
        }
      ]
    },
    {
      "cell_type": "code",
      "source": [
        "with open('acc_fea.pkl', 'wb') as f:\n",
        "    pickle.dump(acc_fea, f, pickle.HIGHEST_PROTOCOL)"
      ],
      "metadata": {
        "id": "qRCATJ_4VLT8"
      },
      "id": "qRCATJ_4VLT8",
      "execution_count": null,
      "outputs": []
    },
    {
      "cell_type": "code",
      "source": [
        "with open('acc_fea.pkl', 'rb') as f:\n",
        "    print(pickle.load(f))"
      ],
      "metadata": {
        "colab": {
          "base_uri": "https://localhost:8080/"
        },
        "id": "eKPWVdIfZjgo",
        "outputId": "76268d1e-8def-4205-907f-5c6d141c9afb"
      },
      "id": "eKPWVdIfZjgo",
      "execution_count": null,
      "outputs": [
        {
          "output_type": "stream",
          "name": "stdout",
          "text": [
            "[(0.9978021978021978, 0.9385964912280702)]\n"
          ]
        }
      ]
    },
    {
      "cell_type": "code",
      "source": [
        "with open('fea.pkl', 'wb') as f:\n",
        "    pickle.dump(fea, f, pickle.HIGHEST_PROTOCOL)"
      ],
      "metadata": {
        "id": "bNoQk6unZmAC"
      },
      "id": "bNoQk6unZmAC",
      "execution_count": null,
      "outputs": []
    },
    {
      "cell_type": "code",
      "source": [
        "with open('fea.pkl', 'rb') as f:\n",
        "    print(pickle.load(f))"
      ],
      "metadata": {
        "colab": {
          "base_uri": "https://localhost:8080/"
        },
        "id": "KDX_frrEZmCs",
        "outputId": "32a2b94e-e38f-4aa6-81f5-089f67151eb8"
      },
      "id": "KDX_frrEZmCs",
      "execution_count": null,
      "outputs": [
        {
          "output_type": "stream",
          "name": "stdout",
          "text": [
            "[BaggingClassifier(base_estimator=DecisionTreeClassifier(), max_features=2,\n",
            "                  max_samples=0.5, n_estimators=30)]\n"
          ]
        }
      ]
    },
    {
      "cell_type": "code",
      "source": [
        "#data frame"
      ],
      "metadata": {
        "id": "7ugMvxxhZmFu"
      },
      "id": "7ugMvxxhZmFu",
      "execution_count": null,
      "outputs": []
    },
    {
      "cell_type": "code",
      "source": [
        "data = []"
      ],
      "metadata": {
        "id": "dop7LIz7CH6u"
      },
      "id": "dop7LIz7CH6u",
      "execution_count": null,
      "outputs": []
    },
    {
      "cell_type": "code",
      "source": [
        "for estimator, features in zip(smpl.estimators_, smpl.estimators_features_):\n",
        "  y_pred_train2 = estimator.predict(X_train.iloc[:, features])\n",
        "  y_pred_test2 = estimator.predict(X_test.iloc[:, features])\n",
        "  data.append([accuracy_score(y_train, y_pred_train2), accuracy_score(y_test, y_pred_test2), list(X.columns[features])])"
      ],
      "metadata": {
        "colab": {
          "base_uri": "https://localhost:8080/"
        },
        "id": "daxZxaqACH_Q",
        "outputId": "83f8d968-7f8e-4cec-fa6a-8137e44aaaf9"
      },
      "id": "daxZxaqACH_Q",
      "execution_count": null,
      "outputs": [
        {
          "output_type": "stream",
          "name": "stderr",
          "text": [
            "/usr/local/lib/python3.7/dist-packages/sklearn/base.py:444: UserWarning: X has feature names, but DecisionTreeClassifier was fitted without feature names\n",
            "  f\"X has feature names, but {self.__class__.__name__} was fitted without\"\n",
            "/usr/local/lib/python3.7/dist-packages/sklearn/base.py:444: UserWarning: X has feature names, but DecisionTreeClassifier was fitted without feature names\n",
            "  f\"X has feature names, but {self.__class__.__name__} was fitted without\"\n",
            "/usr/local/lib/python3.7/dist-packages/sklearn/base.py:444: UserWarning: X has feature names, but DecisionTreeClassifier was fitted without feature names\n",
            "  f\"X has feature names, but {self.__class__.__name__} was fitted without\"\n",
            "/usr/local/lib/python3.7/dist-packages/sklearn/base.py:444: UserWarning: X has feature names, but DecisionTreeClassifier was fitted without feature names\n",
            "  f\"X has feature names, but {self.__class__.__name__} was fitted without\"\n",
            "/usr/local/lib/python3.7/dist-packages/sklearn/base.py:444: UserWarning: X has feature names, but DecisionTreeClassifier was fitted without feature names\n",
            "  f\"X has feature names, but {self.__class__.__name__} was fitted without\"\n",
            "/usr/local/lib/python3.7/dist-packages/sklearn/base.py:444: UserWarning: X has feature names, but DecisionTreeClassifier was fitted without feature names\n",
            "  f\"X has feature names, but {self.__class__.__name__} was fitted without\"\n",
            "/usr/local/lib/python3.7/dist-packages/sklearn/base.py:444: UserWarning: X has feature names, but DecisionTreeClassifier was fitted without feature names\n",
            "  f\"X has feature names, but {self.__class__.__name__} was fitted without\"\n",
            "/usr/local/lib/python3.7/dist-packages/sklearn/base.py:444: UserWarning: X has feature names, but DecisionTreeClassifier was fitted without feature names\n",
            "  f\"X has feature names, but {self.__class__.__name__} was fitted without\"\n",
            "/usr/local/lib/python3.7/dist-packages/sklearn/base.py:444: UserWarning: X has feature names, but DecisionTreeClassifier was fitted without feature names\n",
            "  f\"X has feature names, but {self.__class__.__name__} was fitted without\"\n",
            "/usr/local/lib/python3.7/dist-packages/sklearn/base.py:444: UserWarning: X has feature names, but DecisionTreeClassifier was fitted without feature names\n",
            "  f\"X has feature names, but {self.__class__.__name__} was fitted without\"\n",
            "/usr/local/lib/python3.7/dist-packages/sklearn/base.py:444: UserWarning: X has feature names, but DecisionTreeClassifier was fitted without feature names\n",
            "  f\"X has feature names, but {self.__class__.__name__} was fitted without\"\n",
            "/usr/local/lib/python3.7/dist-packages/sklearn/base.py:444: UserWarning: X has feature names, but DecisionTreeClassifier was fitted without feature names\n",
            "  f\"X has feature names, but {self.__class__.__name__} was fitted without\"\n",
            "/usr/local/lib/python3.7/dist-packages/sklearn/base.py:444: UserWarning: X has feature names, but DecisionTreeClassifier was fitted without feature names\n",
            "  f\"X has feature names, but {self.__class__.__name__} was fitted without\"\n",
            "/usr/local/lib/python3.7/dist-packages/sklearn/base.py:444: UserWarning: X has feature names, but DecisionTreeClassifier was fitted without feature names\n",
            "  f\"X has feature names, but {self.__class__.__name__} was fitted without\"\n",
            "/usr/local/lib/python3.7/dist-packages/sklearn/base.py:444: UserWarning: X has feature names, but DecisionTreeClassifier was fitted without feature names\n",
            "  f\"X has feature names, but {self.__class__.__name__} was fitted without\"\n",
            "/usr/local/lib/python3.7/dist-packages/sklearn/base.py:444: UserWarning: X has feature names, but DecisionTreeClassifier was fitted without feature names\n",
            "  f\"X has feature names, but {self.__class__.__name__} was fitted without\"\n",
            "/usr/local/lib/python3.7/dist-packages/sklearn/base.py:444: UserWarning: X has feature names, but DecisionTreeClassifier was fitted without feature names\n",
            "  f\"X has feature names, but {self.__class__.__name__} was fitted without\"\n",
            "/usr/local/lib/python3.7/dist-packages/sklearn/base.py:444: UserWarning: X has feature names, but DecisionTreeClassifier was fitted without feature names\n",
            "  f\"X has feature names, but {self.__class__.__name__} was fitted without\"\n",
            "/usr/local/lib/python3.7/dist-packages/sklearn/base.py:444: UserWarning: X has feature names, but DecisionTreeClassifier was fitted without feature names\n",
            "  f\"X has feature names, but {self.__class__.__name__} was fitted without\"\n",
            "/usr/local/lib/python3.7/dist-packages/sklearn/base.py:444: UserWarning: X has feature names, but DecisionTreeClassifier was fitted without feature names\n",
            "  f\"X has feature names, but {self.__class__.__name__} was fitted without\"\n",
            "/usr/local/lib/python3.7/dist-packages/sklearn/base.py:444: UserWarning: X has feature names, but DecisionTreeClassifier was fitted without feature names\n",
            "  f\"X has feature names, but {self.__class__.__name__} was fitted without\"\n",
            "/usr/local/lib/python3.7/dist-packages/sklearn/base.py:444: UserWarning: X has feature names, but DecisionTreeClassifier was fitted without feature names\n",
            "  f\"X has feature names, but {self.__class__.__name__} was fitted without\"\n",
            "/usr/local/lib/python3.7/dist-packages/sklearn/base.py:444: UserWarning: X has feature names, but DecisionTreeClassifier was fitted without feature names\n",
            "  f\"X has feature names, but {self.__class__.__name__} was fitted without\"\n",
            "/usr/local/lib/python3.7/dist-packages/sklearn/base.py:444: UserWarning: X has feature names, but DecisionTreeClassifier was fitted without feature names\n",
            "  f\"X has feature names, but {self.__class__.__name__} was fitted without\"\n",
            "/usr/local/lib/python3.7/dist-packages/sklearn/base.py:444: UserWarning: X has feature names, but DecisionTreeClassifier was fitted without feature names\n",
            "  f\"X has feature names, but {self.__class__.__name__} was fitted without\"\n",
            "/usr/local/lib/python3.7/dist-packages/sklearn/base.py:444: UserWarning: X has feature names, but DecisionTreeClassifier was fitted without feature names\n",
            "  f\"X has feature names, but {self.__class__.__name__} was fitted without\"\n",
            "/usr/local/lib/python3.7/dist-packages/sklearn/base.py:444: UserWarning: X has feature names, but DecisionTreeClassifier was fitted without feature names\n",
            "  f\"X has feature names, but {self.__class__.__name__} was fitted without\"\n",
            "/usr/local/lib/python3.7/dist-packages/sklearn/base.py:444: UserWarning: X has feature names, but DecisionTreeClassifier was fitted without feature names\n",
            "  f\"X has feature names, but {self.__class__.__name__} was fitted without\"\n",
            "/usr/local/lib/python3.7/dist-packages/sklearn/base.py:444: UserWarning: X has feature names, but DecisionTreeClassifier was fitted without feature names\n",
            "  f\"X has feature names, but {self.__class__.__name__} was fitted without\"\n",
            "/usr/local/lib/python3.7/dist-packages/sklearn/base.py:444: UserWarning: X has feature names, but DecisionTreeClassifier was fitted without feature names\n",
            "  f\"X has feature names, but {self.__class__.__name__} was fitted without\"\n",
            "/usr/local/lib/python3.7/dist-packages/sklearn/base.py:444: UserWarning: X has feature names, but DecisionTreeClassifier was fitted without feature names\n",
            "  f\"X has feature names, but {self.__class__.__name__} was fitted without\"\n",
            "/usr/local/lib/python3.7/dist-packages/sklearn/base.py:444: UserWarning: X has feature names, but DecisionTreeClassifier was fitted without feature names\n",
            "  f\"X has feature names, but {self.__class__.__name__} was fitted without\"\n",
            "/usr/local/lib/python3.7/dist-packages/sklearn/base.py:444: UserWarning: X has feature names, but DecisionTreeClassifier was fitted without feature names\n",
            "  f\"X has feature names, but {self.__class__.__name__} was fitted without\"\n",
            "/usr/local/lib/python3.7/dist-packages/sklearn/base.py:444: UserWarning: X has feature names, but DecisionTreeClassifier was fitted without feature names\n",
            "  f\"X has feature names, but {self.__class__.__name__} was fitted without\"\n",
            "/usr/local/lib/python3.7/dist-packages/sklearn/base.py:444: UserWarning: X has feature names, but DecisionTreeClassifier was fitted without feature names\n",
            "  f\"X has feature names, but {self.__class__.__name__} was fitted without\"\n",
            "/usr/local/lib/python3.7/dist-packages/sklearn/base.py:444: UserWarning: X has feature names, but DecisionTreeClassifier was fitted without feature names\n",
            "  f\"X has feature names, but {self.__class__.__name__} was fitted without\"\n",
            "/usr/local/lib/python3.7/dist-packages/sklearn/base.py:444: UserWarning: X has feature names, but DecisionTreeClassifier was fitted without feature names\n",
            "  f\"X has feature names, but {self.__class__.__name__} was fitted without\"\n",
            "/usr/local/lib/python3.7/dist-packages/sklearn/base.py:444: UserWarning: X has feature names, but DecisionTreeClassifier was fitted without feature names\n",
            "  f\"X has feature names, but {self.__class__.__name__} was fitted without\"\n",
            "/usr/local/lib/python3.7/dist-packages/sklearn/base.py:444: UserWarning: X has feature names, but DecisionTreeClassifier was fitted without feature names\n",
            "  f\"X has feature names, but {self.__class__.__name__} was fitted without\"\n",
            "/usr/local/lib/python3.7/dist-packages/sklearn/base.py:444: UserWarning: X has feature names, but DecisionTreeClassifier was fitted without feature names\n",
            "  f\"X has feature names, but {self.__class__.__name__} was fitted without\"\n",
            "/usr/local/lib/python3.7/dist-packages/sklearn/base.py:444: UserWarning: X has feature names, but DecisionTreeClassifier was fitted without feature names\n",
            "  f\"X has feature names, but {self.__class__.__name__} was fitted without\"\n",
            "/usr/local/lib/python3.7/dist-packages/sklearn/base.py:444: UserWarning: X has feature names, but DecisionTreeClassifier was fitted without feature names\n",
            "  f\"X has feature names, but {self.__class__.__name__} was fitted without\"\n",
            "/usr/local/lib/python3.7/dist-packages/sklearn/base.py:444: UserWarning: X has feature names, but DecisionTreeClassifier was fitted without feature names\n",
            "  f\"X has feature names, but {self.__class__.__name__} was fitted without\"\n",
            "/usr/local/lib/python3.7/dist-packages/sklearn/base.py:444: UserWarning: X has feature names, but DecisionTreeClassifier was fitted without feature names\n",
            "  f\"X has feature names, but {self.__class__.__name__} was fitted without\"\n",
            "/usr/local/lib/python3.7/dist-packages/sklearn/base.py:444: UserWarning: X has feature names, but DecisionTreeClassifier was fitted without feature names\n",
            "  f\"X has feature names, but {self.__class__.__name__} was fitted without\"\n",
            "/usr/local/lib/python3.7/dist-packages/sklearn/base.py:444: UserWarning: X has feature names, but DecisionTreeClassifier was fitted without feature names\n",
            "  f\"X has feature names, but {self.__class__.__name__} was fitted without\"\n",
            "/usr/local/lib/python3.7/dist-packages/sklearn/base.py:444: UserWarning: X has feature names, but DecisionTreeClassifier was fitted without feature names\n",
            "  f\"X has feature names, but {self.__class__.__name__} was fitted without\"\n",
            "/usr/local/lib/python3.7/dist-packages/sklearn/base.py:444: UserWarning: X has feature names, but DecisionTreeClassifier was fitted without feature names\n",
            "  f\"X has feature names, but {self.__class__.__name__} was fitted without\"\n",
            "/usr/local/lib/python3.7/dist-packages/sklearn/base.py:444: UserWarning: X has feature names, but DecisionTreeClassifier was fitted without feature names\n",
            "  f\"X has feature names, but {self.__class__.__name__} was fitted without\"\n",
            "/usr/local/lib/python3.7/dist-packages/sklearn/base.py:444: UserWarning: X has feature names, but DecisionTreeClassifier was fitted without feature names\n",
            "  f\"X has feature names, but {self.__class__.__name__} was fitted without\"\n",
            "/usr/local/lib/python3.7/dist-packages/sklearn/base.py:444: UserWarning: X has feature names, but DecisionTreeClassifier was fitted without feature names\n",
            "  f\"X has feature names, but {self.__class__.__name__} was fitted without\"\n",
            "/usr/local/lib/python3.7/dist-packages/sklearn/base.py:444: UserWarning: X has feature names, but DecisionTreeClassifier was fitted without feature names\n",
            "  f\"X has feature names, but {self.__class__.__name__} was fitted without\"\n",
            "/usr/local/lib/python3.7/dist-packages/sklearn/base.py:444: UserWarning: X has feature names, but DecisionTreeClassifier was fitted without feature names\n",
            "  f\"X has feature names, but {self.__class__.__name__} was fitted without\"\n",
            "/usr/local/lib/python3.7/dist-packages/sklearn/base.py:444: UserWarning: X has feature names, but DecisionTreeClassifier was fitted without feature names\n",
            "  f\"X has feature names, but {self.__class__.__name__} was fitted without\"\n",
            "/usr/local/lib/python3.7/dist-packages/sklearn/base.py:444: UserWarning: X has feature names, but DecisionTreeClassifier was fitted without feature names\n",
            "  f\"X has feature names, but {self.__class__.__name__} was fitted without\"\n",
            "/usr/local/lib/python3.7/dist-packages/sklearn/base.py:444: UserWarning: X has feature names, but DecisionTreeClassifier was fitted without feature names\n",
            "  f\"X has feature names, but {self.__class__.__name__} was fitted without\"\n",
            "/usr/local/lib/python3.7/dist-packages/sklearn/base.py:444: UserWarning: X has feature names, but DecisionTreeClassifier was fitted without feature names\n",
            "  f\"X has feature names, but {self.__class__.__name__} was fitted without\"\n",
            "/usr/local/lib/python3.7/dist-packages/sklearn/base.py:444: UserWarning: X has feature names, but DecisionTreeClassifier was fitted without feature names\n",
            "  f\"X has feature names, but {self.__class__.__name__} was fitted without\"\n",
            "/usr/local/lib/python3.7/dist-packages/sklearn/base.py:444: UserWarning: X has feature names, but DecisionTreeClassifier was fitted without feature names\n",
            "  f\"X has feature names, but {self.__class__.__name__} was fitted without\"\n",
            "/usr/local/lib/python3.7/dist-packages/sklearn/base.py:444: UserWarning: X has feature names, but DecisionTreeClassifier was fitted without feature names\n",
            "  f\"X has feature names, but {self.__class__.__name__} was fitted without\"\n"
          ]
        }
      ]
    },
    {
      "cell_type": "code",
      "source": [
        "acc_fea_rank = pd.DataFrame(data, columns = [\"Train Accuracy\", \"Test Accuracy\", \"Features\"])"
      ],
      "metadata": {
        "id": "fY4HY898aEVl"
      },
      "id": "fY4HY898aEVl",
      "execution_count": null,
      "outputs": []
    },
    {
      "cell_type": "code",
      "source": [
        "acc_fea_rank.sort_values(by=['Test Accuracy', 'Train Accuracy'], ascending=False, inplace=True)"
      ],
      "metadata": {
        "id": "k1uMXcwPZmH_"
      },
      "id": "k1uMXcwPZmH_",
      "execution_count": null,
      "outputs": []
    },
    {
      "cell_type": "code",
      "source": [
        "acc_fea_rank"
      ],
      "metadata": {
        "colab": {
          "base_uri": "https://localhost:8080/",
          "height": 990
        },
        "id": "JAH2QgT_IoHx",
        "outputId": "a798670f-65f2-4796-de70-24f17bad7a6f"
      },
      "id": "JAH2QgT_IoHx",
      "execution_count": null,
      "outputs": [
        {
          "output_type": "execute_result",
          "data": {
            "text/plain": [
              "    Train Accuracy  Test Accuracy  \\\n",
              "28        0.934066       0.956140   \n",
              "0         0.934066       0.929825   \n",
              "1         0.923077       0.921053   \n",
              "4         0.931868       0.912281   \n",
              "8         0.931868       0.912281   \n",
              "22        0.958242       0.903509   \n",
              "5         0.927473       0.903509   \n",
              "15        0.907692       0.903509   \n",
              "13        0.940659       0.894737   \n",
              "23        0.920879       0.885965   \n",
              "26        0.898901       0.885965   \n",
              "9         0.925275       0.877193   \n",
              "21        0.896703       0.859649   \n",
              "20        0.892308       0.850877   \n",
              "10        0.890110       0.850877   \n",
              "12        0.918681       0.842105   \n",
              "2         0.916484       0.842105   \n",
              "16        0.920879       0.833333   \n",
              "19        0.901099       0.824561   \n",
              "24        0.927473       0.815789   \n",
              "17        0.923077       0.815789   \n",
              "6         0.839560       0.771930   \n",
              "25        0.868132       0.754386   \n",
              "29        0.778022       0.719298   \n",
              "7         0.793407       0.701754   \n",
              "11        0.800000       0.675439   \n",
              "14        0.764835       0.622807   \n",
              "18        0.756044       0.578947   \n",
              "3         0.751648       0.570175   \n",
              "27        0.747253       0.543860   \n",
              "\n",
              "                                        Features  \n",
              "28                  [mean concavity, worst area]  \n",
              "0            [compactness error, mean concavity]  \n",
              "1             [concavity error, worst perimeter]  \n",
              "4                  [concavity error, worst area]  \n",
              "8      [compactness error, worst concave points]  \n",
              "22            [concave points error, worst area]  \n",
              "5                [mean perimeter, worst texture]  \n",
              "15      [mean fractal dimension, mean perimeter]  \n",
              "13                   [worst radius, mean radius]  \n",
              "23                  [radius error, worst radius]  \n",
              "26              [symmetry error, mean perimeter]  \n",
              "9               [mean perimeter, mean concavity]  \n",
              "21                     [mean area, radius error]  \n",
              "20             [perimeter error, mean concavity]  \n",
              "10                [area error, worst smoothness]  \n",
              "12      [mean concave points, worst compactness]  \n",
              "2                   [area error, mean concavity]  \n",
              "16       [perimeter error, worst concave points]  \n",
              "19            [mean concavity, smoothness error]  \n",
              "24               [mean perimeter, worst texture]  \n",
              "17                   [worst symmetry, mean area]  \n",
              "6    [mean compactness, worst fractal dimension]  \n",
              "25                [radius error, symmetry error]  \n",
              "29           [mean smoothness, smoothness error]  \n",
              "7       [fractal dimension error, worst texture]  \n",
              "11     [mean fractal dimension, mean smoothness]  \n",
              "14  [compactness error, fractal dimension error]  \n",
              "18               [symmetry error, mean symmetry]  \n",
              "3   [compactness error, fractal dimension error]  \n",
              "27      [symmetry error, mean fractal dimension]  "
            ],
            "text/html": [
              "\n",
              "  <div id=\"df-e422f9a2-e2d4-499b-b63d-452b719bff81\">\n",
              "    <div class=\"colab-df-container\">\n",
              "      <div>\n",
              "<style scoped>\n",
              "    .dataframe tbody tr th:only-of-type {\n",
              "        vertical-align: middle;\n",
              "    }\n",
              "\n",
              "    .dataframe tbody tr th {\n",
              "        vertical-align: top;\n",
              "    }\n",
              "\n",
              "    .dataframe thead th {\n",
              "        text-align: right;\n",
              "    }\n",
              "</style>\n",
              "<table border=\"1\" class=\"dataframe\">\n",
              "  <thead>\n",
              "    <tr style=\"text-align: right;\">\n",
              "      <th></th>\n",
              "      <th>Train Accuracy</th>\n",
              "      <th>Test Accuracy</th>\n",
              "      <th>Features</th>\n",
              "    </tr>\n",
              "  </thead>\n",
              "  <tbody>\n",
              "    <tr>\n",
              "      <th>28</th>\n",
              "      <td>0.934066</td>\n",
              "      <td>0.956140</td>\n",
              "      <td>[mean concavity, worst area]</td>\n",
              "    </tr>\n",
              "    <tr>\n",
              "      <th>0</th>\n",
              "      <td>0.934066</td>\n",
              "      <td>0.929825</td>\n",
              "      <td>[compactness error, mean concavity]</td>\n",
              "    </tr>\n",
              "    <tr>\n",
              "      <th>1</th>\n",
              "      <td>0.923077</td>\n",
              "      <td>0.921053</td>\n",
              "      <td>[concavity error, worst perimeter]</td>\n",
              "    </tr>\n",
              "    <tr>\n",
              "      <th>4</th>\n",
              "      <td>0.931868</td>\n",
              "      <td>0.912281</td>\n",
              "      <td>[concavity error, worst area]</td>\n",
              "    </tr>\n",
              "    <tr>\n",
              "      <th>8</th>\n",
              "      <td>0.931868</td>\n",
              "      <td>0.912281</td>\n",
              "      <td>[compactness error, worst concave points]</td>\n",
              "    </tr>\n",
              "    <tr>\n",
              "      <th>22</th>\n",
              "      <td>0.958242</td>\n",
              "      <td>0.903509</td>\n",
              "      <td>[concave points error, worst area]</td>\n",
              "    </tr>\n",
              "    <tr>\n",
              "      <th>5</th>\n",
              "      <td>0.927473</td>\n",
              "      <td>0.903509</td>\n",
              "      <td>[mean perimeter, worst texture]</td>\n",
              "    </tr>\n",
              "    <tr>\n",
              "      <th>15</th>\n",
              "      <td>0.907692</td>\n",
              "      <td>0.903509</td>\n",
              "      <td>[mean fractal dimension, mean perimeter]</td>\n",
              "    </tr>\n",
              "    <tr>\n",
              "      <th>13</th>\n",
              "      <td>0.940659</td>\n",
              "      <td>0.894737</td>\n",
              "      <td>[worst radius, mean radius]</td>\n",
              "    </tr>\n",
              "    <tr>\n",
              "      <th>23</th>\n",
              "      <td>0.920879</td>\n",
              "      <td>0.885965</td>\n",
              "      <td>[radius error, worst radius]</td>\n",
              "    </tr>\n",
              "    <tr>\n",
              "      <th>26</th>\n",
              "      <td>0.898901</td>\n",
              "      <td>0.885965</td>\n",
              "      <td>[symmetry error, mean perimeter]</td>\n",
              "    </tr>\n",
              "    <tr>\n",
              "      <th>9</th>\n",
              "      <td>0.925275</td>\n",
              "      <td>0.877193</td>\n",
              "      <td>[mean perimeter, mean concavity]</td>\n",
              "    </tr>\n",
              "    <tr>\n",
              "      <th>21</th>\n",
              "      <td>0.896703</td>\n",
              "      <td>0.859649</td>\n",
              "      <td>[mean area, radius error]</td>\n",
              "    </tr>\n",
              "    <tr>\n",
              "      <th>20</th>\n",
              "      <td>0.892308</td>\n",
              "      <td>0.850877</td>\n",
              "      <td>[perimeter error, mean concavity]</td>\n",
              "    </tr>\n",
              "    <tr>\n",
              "      <th>10</th>\n",
              "      <td>0.890110</td>\n",
              "      <td>0.850877</td>\n",
              "      <td>[area error, worst smoothness]</td>\n",
              "    </tr>\n",
              "    <tr>\n",
              "      <th>12</th>\n",
              "      <td>0.918681</td>\n",
              "      <td>0.842105</td>\n",
              "      <td>[mean concave points, worst compactness]</td>\n",
              "    </tr>\n",
              "    <tr>\n",
              "      <th>2</th>\n",
              "      <td>0.916484</td>\n",
              "      <td>0.842105</td>\n",
              "      <td>[area error, mean concavity]</td>\n",
              "    </tr>\n",
              "    <tr>\n",
              "      <th>16</th>\n",
              "      <td>0.920879</td>\n",
              "      <td>0.833333</td>\n",
              "      <td>[perimeter error, worst concave points]</td>\n",
              "    </tr>\n",
              "    <tr>\n",
              "      <th>19</th>\n",
              "      <td>0.901099</td>\n",
              "      <td>0.824561</td>\n",
              "      <td>[mean concavity, smoothness error]</td>\n",
              "    </tr>\n",
              "    <tr>\n",
              "      <th>24</th>\n",
              "      <td>0.927473</td>\n",
              "      <td>0.815789</td>\n",
              "      <td>[mean perimeter, worst texture]</td>\n",
              "    </tr>\n",
              "    <tr>\n",
              "      <th>17</th>\n",
              "      <td>0.923077</td>\n",
              "      <td>0.815789</td>\n",
              "      <td>[worst symmetry, mean area]</td>\n",
              "    </tr>\n",
              "    <tr>\n",
              "      <th>6</th>\n",
              "      <td>0.839560</td>\n",
              "      <td>0.771930</td>\n",
              "      <td>[mean compactness, worst fractal dimension]</td>\n",
              "    </tr>\n",
              "    <tr>\n",
              "      <th>25</th>\n",
              "      <td>0.868132</td>\n",
              "      <td>0.754386</td>\n",
              "      <td>[radius error, symmetry error]</td>\n",
              "    </tr>\n",
              "    <tr>\n",
              "      <th>29</th>\n",
              "      <td>0.778022</td>\n",
              "      <td>0.719298</td>\n",
              "      <td>[mean smoothness, smoothness error]</td>\n",
              "    </tr>\n",
              "    <tr>\n",
              "      <th>7</th>\n",
              "      <td>0.793407</td>\n",
              "      <td>0.701754</td>\n",
              "      <td>[fractal dimension error, worst texture]</td>\n",
              "    </tr>\n",
              "    <tr>\n",
              "      <th>11</th>\n",
              "      <td>0.800000</td>\n",
              "      <td>0.675439</td>\n",
              "      <td>[mean fractal dimension, mean smoothness]</td>\n",
              "    </tr>\n",
              "    <tr>\n",
              "      <th>14</th>\n",
              "      <td>0.764835</td>\n",
              "      <td>0.622807</td>\n",
              "      <td>[compactness error, fractal dimension error]</td>\n",
              "    </tr>\n",
              "    <tr>\n",
              "      <th>18</th>\n",
              "      <td>0.756044</td>\n",
              "      <td>0.578947</td>\n",
              "      <td>[symmetry error, mean symmetry]</td>\n",
              "    </tr>\n",
              "    <tr>\n",
              "      <th>3</th>\n",
              "      <td>0.751648</td>\n",
              "      <td>0.570175</td>\n",
              "      <td>[compactness error, fractal dimension error]</td>\n",
              "    </tr>\n",
              "    <tr>\n",
              "      <th>27</th>\n",
              "      <td>0.747253</td>\n",
              "      <td>0.543860</td>\n",
              "      <td>[symmetry error, mean fractal dimension]</td>\n",
              "    </tr>\n",
              "  </tbody>\n",
              "</table>\n",
              "</div>\n",
              "      <button class=\"colab-df-convert\" onclick=\"convertToInteractive('df-e422f9a2-e2d4-499b-b63d-452b719bff81')\"\n",
              "              title=\"Convert this dataframe to an interactive table.\"\n",
              "              style=\"display:none;\">\n",
              "        \n",
              "  <svg xmlns=\"http://www.w3.org/2000/svg\" height=\"24px\"viewBox=\"0 0 24 24\"\n",
              "       width=\"24px\">\n",
              "    <path d=\"M0 0h24v24H0V0z\" fill=\"none\"/>\n",
              "    <path d=\"M18.56 5.44l.94 2.06.94-2.06 2.06-.94-2.06-.94-.94-2.06-.94 2.06-2.06.94zm-11 1L8.5 8.5l.94-2.06 2.06-.94-2.06-.94L8.5 2.5l-.94 2.06-2.06.94zm10 10l.94 2.06.94-2.06 2.06-.94-2.06-.94-.94-2.06-.94 2.06-2.06.94z\"/><path d=\"M17.41 7.96l-1.37-1.37c-.4-.4-.92-.59-1.43-.59-.52 0-1.04.2-1.43.59L10.3 9.45l-7.72 7.72c-.78.78-.78 2.05 0 2.83L4 21.41c.39.39.9.59 1.41.59.51 0 1.02-.2 1.41-.59l7.78-7.78 2.81-2.81c.8-.78.8-2.07 0-2.86zM5.41 20L4 18.59l7.72-7.72 1.47 1.35L5.41 20z\"/>\n",
              "  </svg>\n",
              "      </button>\n",
              "      \n",
              "  <style>\n",
              "    .colab-df-container {\n",
              "      display:flex;\n",
              "      flex-wrap:wrap;\n",
              "      gap: 12px;\n",
              "    }\n",
              "\n",
              "    .colab-df-convert {\n",
              "      background-color: #E8F0FE;\n",
              "      border: none;\n",
              "      border-radius: 50%;\n",
              "      cursor: pointer;\n",
              "      display: none;\n",
              "      fill: #1967D2;\n",
              "      height: 32px;\n",
              "      padding: 0 0 0 0;\n",
              "      width: 32px;\n",
              "    }\n",
              "\n",
              "    .colab-df-convert:hover {\n",
              "      background-color: #E2EBFA;\n",
              "      box-shadow: 0px 1px 2px rgba(60, 64, 67, 0.3), 0px 1px 3px 1px rgba(60, 64, 67, 0.15);\n",
              "      fill: #174EA6;\n",
              "    }\n",
              "\n",
              "    [theme=dark] .colab-df-convert {\n",
              "      background-color: #3B4455;\n",
              "      fill: #D2E3FC;\n",
              "    }\n",
              "\n",
              "    [theme=dark] .colab-df-convert:hover {\n",
              "      background-color: #434B5C;\n",
              "      box-shadow: 0px 1px 3px 1px rgba(0, 0, 0, 0.15);\n",
              "      filter: drop-shadow(0px 1px 2px rgba(0, 0, 0, 0.3));\n",
              "      fill: #FFFFFF;\n",
              "    }\n",
              "  </style>\n",
              "\n",
              "      <script>\n",
              "        const buttonEl =\n",
              "          document.querySelector('#df-e422f9a2-e2d4-499b-b63d-452b719bff81 button.colab-df-convert');\n",
              "        buttonEl.style.display =\n",
              "          google.colab.kernel.accessAllowed ? 'block' : 'none';\n",
              "\n",
              "        async function convertToInteractive(key) {\n",
              "          const element = document.querySelector('#df-e422f9a2-e2d4-499b-b63d-452b719bff81');\n",
              "          const dataTable =\n",
              "            await google.colab.kernel.invokeFunction('convertToInteractive',\n",
              "                                                     [key], {});\n",
              "          if (!dataTable) return;\n",
              "\n",
              "          const docLinkHtml = 'Like what you see? Visit the ' +\n",
              "            '<a target=\"_blank\" href=https://colab.research.google.com/notebooks/data_table.ipynb>data table notebook</a>'\n",
              "            + ' to learn more about interactive tables.';\n",
              "          element.innerHTML = '';\n",
              "          dataTable['output_type'] = 'display_data';\n",
              "          await google.colab.output.renderOutput(dataTable, element);\n",
              "          const docLink = document.createElement('div');\n",
              "          docLink.innerHTML = docLinkHtml;\n",
              "          element.appendChild(docLink);\n",
              "        }\n",
              "      </script>\n",
              "    </div>\n",
              "  </div>\n",
              "  "
            ]
          },
          "metadata": {},
          "execution_count": 83
        }
      ]
    },
    {
      "cell_type": "code",
      "source": [
        "with open('acc_fea_rank.pkl', 'wb') as f:\n",
        "    pickle.dump(acc_fea_rank, f, pickle.HIGHEST_PROTOCOL)"
      ],
      "metadata": {
        "id": "43TPw5duIrWT"
      },
      "id": "43TPw5duIrWT",
      "execution_count": null,
      "outputs": []
    },
    {
      "cell_type": "code",
      "source": [
        "with open('acc_fea_rank.pkl', 'rb') as f:\n",
        "    print(pickle.load(f))"
      ],
      "metadata": {
        "colab": {
          "base_uri": "https://localhost:8080/"
        },
        "id": "Ut6TJf3DIrfS",
        "outputId": "3180e794-b7c1-4c6f-faa8-6f0b0d327f0b"
      },
      "id": "Ut6TJf3DIrfS",
      "execution_count": null,
      "outputs": [
        {
          "output_type": "stream",
          "name": "stdout",
          "text": [
            "    Train Accuracy  Test Accuracy  \\\n",
            "28        0.934066       0.956140   \n",
            "0         0.934066       0.929825   \n",
            "1         0.923077       0.921053   \n",
            "4         0.931868       0.912281   \n",
            "8         0.931868       0.912281   \n",
            "22        0.958242       0.903509   \n",
            "5         0.927473       0.903509   \n",
            "15        0.907692       0.903509   \n",
            "13        0.940659       0.894737   \n",
            "23        0.920879       0.885965   \n",
            "26        0.898901       0.885965   \n",
            "9         0.925275       0.877193   \n",
            "21        0.896703       0.859649   \n",
            "20        0.892308       0.850877   \n",
            "10        0.890110       0.850877   \n",
            "12        0.918681       0.842105   \n",
            "2         0.916484       0.842105   \n",
            "16        0.920879       0.833333   \n",
            "19        0.901099       0.824561   \n",
            "24        0.927473       0.815789   \n",
            "17        0.923077       0.815789   \n",
            "6         0.839560       0.771930   \n",
            "25        0.868132       0.754386   \n",
            "29        0.778022       0.719298   \n",
            "7         0.793407       0.701754   \n",
            "11        0.800000       0.675439   \n",
            "14        0.764835       0.622807   \n",
            "18        0.756044       0.578947   \n",
            "3         0.751648       0.570175   \n",
            "27        0.747253       0.543860   \n",
            "\n",
            "                                        Features  \n",
            "28                  [mean concavity, worst area]  \n",
            "0            [compactness error, mean concavity]  \n",
            "1             [concavity error, worst perimeter]  \n",
            "4                  [concavity error, worst area]  \n",
            "8      [compactness error, worst concave points]  \n",
            "22            [concave points error, worst area]  \n",
            "5                [mean perimeter, worst texture]  \n",
            "15      [mean fractal dimension, mean perimeter]  \n",
            "13                   [worst radius, mean radius]  \n",
            "23                  [radius error, worst radius]  \n",
            "26              [symmetry error, mean perimeter]  \n",
            "9               [mean perimeter, mean concavity]  \n",
            "21                     [mean area, radius error]  \n",
            "20             [perimeter error, mean concavity]  \n",
            "10                [area error, worst smoothness]  \n",
            "12      [mean concave points, worst compactness]  \n",
            "2                   [area error, mean concavity]  \n",
            "16       [perimeter error, worst concave points]  \n",
            "19            [mean concavity, smoothness error]  \n",
            "24               [mean perimeter, worst texture]  \n",
            "17                   [worst symmetry, mean area]  \n",
            "6    [mean compactness, worst fractal dimension]  \n",
            "25                [radius error, symmetry error]  \n",
            "29           [mean smoothness, smoothness error]  \n",
            "7       [fractal dimension error, worst texture]  \n",
            "11     [mean fractal dimension, mean smoothness]  \n",
            "14  [compactness error, fractal dimension error]  \n",
            "18               [symmetry error, mean symmetry]  \n",
            "3   [compactness error, fractal dimension error]  \n",
            "27      [symmetry error, mean fractal dimension]  \n"
          ]
        }
      ]
    },
    {
      "cell_type": "code",
      "source": [],
      "metadata": {
        "id": "BVUj0mcZIrl6"
      },
      "id": "BVUj0mcZIrl6",
      "execution_count": null,
      "outputs": []
    }
  ],
  "metadata": {
    "kernelspec": {
      "display_name": "Python 3 (ipykernel)",
      "language": "python",
      "name": "python3"
    },
    "language_info": {
      "codemirror_mode": {
        "name": "ipython",
        "version": 3
      },
      "file_extension": ".py",
      "mimetype": "text/x-python",
      "name": "python",
      "nbconvert_exporter": "python",
      "pygments_lexer": "ipython3",
      "version": "3.9.10"
    },
    "colab": {
      "provenance": [],
      "include_colab_link": true
    }
  },
  "nbformat": 4,
  "nbformat_minor": 5
}