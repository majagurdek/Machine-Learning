{
  "nbformat": 4,
  "nbformat_minor": 0,
  "metadata": {
    "colab": {
      "provenance": [],
      "authorship_tag": "ABX9TyO1V3e2imO/EbVQrNqo/P9h",
      "include_colab_link": true
    },
    "kernelspec": {
      "name": "python3",
      "display_name": "Python 3"
    },
    "language_info": {
      "name": "python"
    }
  },
  "cells": [
    {
      "cell_type": "markdown",
      "metadata": {
        "id": "view-in-github",
        "colab_type": "text"
      },
      "source": [
        "<a href=\"https://colab.research.google.com/github/majagurdek/Machine-Learning/blob/main/lab5.ipynb\" target=\"_parent\"><img src=\"https://colab.research.google.com/assets/colab-badge.svg\" alt=\"Open In Colab\"/></a>"
      ]
    },
    {
      "cell_type": "code",
      "execution_count": null,
      "metadata": {
        "colab": {
          "base_uri": "https://localhost:8080/"
        },
        "id": "odNIXSDH87l1",
        "outputId": "39c5fd4f-1fa9-4cf5-cab2-7ef40f702b75"
      },
      "outputs": [
        {
          "output_type": "stream",
          "name": "stdout",
          "text": [
            ".. _breast_cancer_dataset:\n",
            "\n",
            "Breast cancer wisconsin (diagnostic) dataset\n",
            "--------------------------------------------\n",
            "\n",
            "**Data Set Characteristics:**\n",
            "\n",
            "    :Number of Instances: 569\n",
            "\n",
            "    :Number of Attributes: 30 numeric, predictive attributes and the class\n",
            "\n",
            "    :Attribute Information:\n",
            "        - radius (mean of distances from center to points on the perimeter)\n",
            "        - texture (standard deviation of gray-scale values)\n",
            "        - perimeter\n",
            "        - area\n",
            "        - smoothness (local variation in radius lengths)\n",
            "        - compactness (perimeter^2 / area - 1.0)\n",
            "        - concavity (severity of concave portions of the contour)\n",
            "        - concave points (number of concave portions of the contour)\n",
            "        - symmetry\n",
            "        - fractal dimension (\"coastline approximation\" - 1)\n",
            "\n",
            "        The mean, standard error, and \"worst\" or largest (mean of the three\n",
            "        worst/largest values) of these features were computed for each image,\n",
            "        resulting in 30 features.  For instance, field 0 is Mean Radius, field\n",
            "        10 is Radius SE, field 20 is Worst Radius.\n",
            "\n",
            "        - class:\n",
            "                - WDBC-Malignant\n",
            "                - WDBC-Benign\n",
            "\n",
            "    :Summary Statistics:\n",
            "\n",
            "    ===================================== ====== ======\n",
            "                                           Min    Max\n",
            "    ===================================== ====== ======\n",
            "    radius (mean):                        6.981  28.11\n",
            "    texture (mean):                       9.71   39.28\n",
            "    perimeter (mean):                     43.79  188.5\n",
            "    area (mean):                          143.5  2501.0\n",
            "    smoothness (mean):                    0.053  0.163\n",
            "    compactness (mean):                   0.019  0.345\n",
            "    concavity (mean):                     0.0    0.427\n",
            "    concave points (mean):                0.0    0.201\n",
            "    symmetry (mean):                      0.106  0.304\n",
            "    fractal dimension (mean):             0.05   0.097\n",
            "    radius (standard error):              0.112  2.873\n",
            "    texture (standard error):             0.36   4.885\n",
            "    perimeter (standard error):           0.757  21.98\n",
            "    area (standard error):                6.802  542.2\n",
            "    smoothness (standard error):          0.002  0.031\n",
            "    compactness (standard error):         0.002  0.135\n",
            "    concavity (standard error):           0.0    0.396\n",
            "    concave points (standard error):      0.0    0.053\n",
            "    symmetry (standard error):            0.008  0.079\n",
            "    fractal dimension (standard error):   0.001  0.03\n",
            "    radius (worst):                       7.93   36.04\n",
            "    texture (worst):                      12.02  49.54\n",
            "    perimeter (worst):                    50.41  251.2\n",
            "    area (worst):                         185.2  4254.0\n",
            "    smoothness (worst):                   0.071  0.223\n",
            "    compactness (worst):                  0.027  1.058\n",
            "    concavity (worst):                    0.0    1.252\n",
            "    concave points (worst):               0.0    0.291\n",
            "    symmetry (worst):                     0.156  0.664\n",
            "    fractal dimension (worst):            0.055  0.208\n",
            "    ===================================== ====== ======\n",
            "\n",
            "    :Missing Attribute Values: None\n",
            "\n",
            "    :Class Distribution: 212 - Malignant, 357 - Benign\n",
            "\n",
            "    :Creator:  Dr. William H. Wolberg, W. Nick Street, Olvi L. Mangasarian\n",
            "\n",
            "    :Donor: Nick Street\n",
            "\n",
            "    :Date: November, 1995\n",
            "\n",
            "This is a copy of UCI ML Breast Cancer Wisconsin (Diagnostic) datasets.\n",
            "https://goo.gl/U2Uwz2\n",
            "\n",
            "Features are computed from a digitized image of a fine needle\n",
            "aspirate (FNA) of a breast mass.  They describe\n",
            "characteristics of the cell nuclei present in the image.\n",
            "\n",
            "Separating plane described above was obtained using\n",
            "Multisurface Method-Tree (MSM-T) [K. P. Bennett, \"Decision Tree\n",
            "Construction Via Linear Programming.\" Proceedings of the 4th\n",
            "Midwest Artificial Intelligence and Cognitive Science Society,\n",
            "pp. 97-101, 1992], a classification method which uses linear\n",
            "programming to construct a decision tree.  Relevant features\n",
            "were selected using an exhaustive search in the space of 1-4\n",
            "features and 1-3 separating planes.\n",
            "\n",
            "The actual linear program used to obtain the separating plane\n",
            "in the 3-dimensional space is that described in:\n",
            "[K. P. Bennett and O. L. Mangasarian: \"Robust Linear\n",
            "Programming Discrimination of Two Linearly Inseparable Sets\",\n",
            "Optimization Methods and Software 1, 1992, 23-34].\n",
            "\n",
            "This database is also available through the UW CS ftp server:\n",
            "\n",
            "ftp ftp.cs.wisc.edu\n",
            "cd math-prog/cpo-dataset/machine-learn/WDBC/\n",
            "\n",
            ".. topic:: References\n",
            "\n",
            "   - W.N. Street, W.H. Wolberg and O.L. Mangasarian. Nuclear feature extraction \n",
            "     for breast tumor diagnosis. IS&T/SPIE 1993 International Symposium on \n",
            "     Electronic Imaging: Science and Technology, volume 1905, pages 861-870,\n",
            "     San Jose, CA, 1993.\n",
            "   - O.L. Mangasarian, W.N. Street and W.H. Wolberg. Breast cancer diagnosis and \n",
            "     prognosis via linear programming. Operations Research, 43(4), pages 570-577, \n",
            "     July-August 1995.\n",
            "   - W.H. Wolberg, W.N. Street, and O.L. Mangasarian. Machine learning techniques\n",
            "     to diagnose breast cancer from fine-needle aspirates. Cancer Letters 77 (1994) \n",
            "     163-171.\n"
          ]
        }
      ],
      "source": [
        "from sklearn import datasets\n",
        "data_breast_cancer = datasets.load_breast_cancer(as_frame=True)\n",
        "print(data_breast_cancer['DESCR'])"
      ]
    },
    {
      "cell_type": "code",
      "source": [
        "X_bc = data_breast_cancer[\"data\"][[\"mean texture\", \"mean symmetry\"]]\n",
        "y_bc = data_breast_cancer[\"target\"]\n",
        "X_bc"
      ],
      "metadata": {
        "colab": {
          "base_uri": "https://localhost:8080/",
          "height": 424
        },
        "id": "8-sdbFh_8-Fm",
        "outputId": "76200404-18ef-4464-c809-bdf56b4166b6"
      },
      "execution_count": null,
      "outputs": [
        {
          "output_type": "execute_result",
          "data": {
            "text/plain": [
              "     mean texture  mean symmetry\n",
              "0           10.38         0.2419\n",
              "1           17.77         0.1812\n",
              "2           21.25         0.2069\n",
              "3           20.38         0.2597\n",
              "4           14.34         0.1809\n",
              "..            ...            ...\n",
              "564         22.39         0.1726\n",
              "565         28.25         0.1752\n",
              "566         28.08         0.1590\n",
              "567         29.33         0.2397\n",
              "568         24.54         0.1587\n",
              "\n",
              "[569 rows x 2 columns]"
            ],
            "text/html": [
              "\n",
              "  <div id=\"df-be1db1b4-0996-4f5d-9eb9-5ce1869ab213\">\n",
              "    <div class=\"colab-df-container\">\n",
              "      <div>\n",
              "<style scoped>\n",
              "    .dataframe tbody tr th:only-of-type {\n",
              "        vertical-align: middle;\n",
              "    }\n",
              "\n",
              "    .dataframe tbody tr th {\n",
              "        vertical-align: top;\n",
              "    }\n",
              "\n",
              "    .dataframe thead th {\n",
              "        text-align: right;\n",
              "    }\n",
              "</style>\n",
              "<table border=\"1\" class=\"dataframe\">\n",
              "  <thead>\n",
              "    <tr style=\"text-align: right;\">\n",
              "      <th></th>\n",
              "      <th>mean texture</th>\n",
              "      <th>mean symmetry</th>\n",
              "    </tr>\n",
              "  </thead>\n",
              "  <tbody>\n",
              "    <tr>\n",
              "      <th>0</th>\n",
              "      <td>10.38</td>\n",
              "      <td>0.2419</td>\n",
              "    </tr>\n",
              "    <tr>\n",
              "      <th>1</th>\n",
              "      <td>17.77</td>\n",
              "      <td>0.1812</td>\n",
              "    </tr>\n",
              "    <tr>\n",
              "      <th>2</th>\n",
              "      <td>21.25</td>\n",
              "      <td>0.2069</td>\n",
              "    </tr>\n",
              "    <tr>\n",
              "      <th>3</th>\n",
              "      <td>20.38</td>\n",
              "      <td>0.2597</td>\n",
              "    </tr>\n",
              "    <tr>\n",
              "      <th>4</th>\n",
              "      <td>14.34</td>\n",
              "      <td>0.1809</td>\n",
              "    </tr>\n",
              "    <tr>\n",
              "      <th>...</th>\n",
              "      <td>...</td>\n",
              "      <td>...</td>\n",
              "    </tr>\n",
              "    <tr>\n",
              "      <th>564</th>\n",
              "      <td>22.39</td>\n",
              "      <td>0.1726</td>\n",
              "    </tr>\n",
              "    <tr>\n",
              "      <th>565</th>\n",
              "      <td>28.25</td>\n",
              "      <td>0.1752</td>\n",
              "    </tr>\n",
              "    <tr>\n",
              "      <th>566</th>\n",
              "      <td>28.08</td>\n",
              "      <td>0.1590</td>\n",
              "    </tr>\n",
              "    <tr>\n",
              "      <th>567</th>\n",
              "      <td>29.33</td>\n",
              "      <td>0.2397</td>\n",
              "    </tr>\n",
              "    <tr>\n",
              "      <th>568</th>\n",
              "      <td>24.54</td>\n",
              "      <td>0.1587</td>\n",
              "    </tr>\n",
              "  </tbody>\n",
              "</table>\n",
              "<p>569 rows × 2 columns</p>\n",
              "</div>\n",
              "      <button class=\"colab-df-convert\" onclick=\"convertToInteractive('df-be1db1b4-0996-4f5d-9eb9-5ce1869ab213')\"\n",
              "              title=\"Convert this dataframe to an interactive table.\"\n",
              "              style=\"display:none;\">\n",
              "        \n",
              "  <svg xmlns=\"http://www.w3.org/2000/svg\" height=\"24px\"viewBox=\"0 0 24 24\"\n",
              "       width=\"24px\">\n",
              "    <path d=\"M0 0h24v24H0V0z\" fill=\"none\"/>\n",
              "    <path d=\"M18.56 5.44l.94 2.06.94-2.06 2.06-.94-2.06-.94-.94-2.06-.94 2.06-2.06.94zm-11 1L8.5 8.5l.94-2.06 2.06-.94-2.06-.94L8.5 2.5l-.94 2.06-2.06.94zm10 10l.94 2.06.94-2.06 2.06-.94-2.06-.94-.94-2.06-.94 2.06-2.06.94z\"/><path d=\"M17.41 7.96l-1.37-1.37c-.4-.4-.92-.59-1.43-.59-.52 0-1.04.2-1.43.59L10.3 9.45l-7.72 7.72c-.78.78-.78 2.05 0 2.83L4 21.41c.39.39.9.59 1.41.59.51 0 1.02-.2 1.41-.59l7.78-7.78 2.81-2.81c.8-.78.8-2.07 0-2.86zM5.41 20L4 18.59l7.72-7.72 1.47 1.35L5.41 20z\"/>\n",
              "  </svg>\n",
              "      </button>\n",
              "      \n",
              "  <style>\n",
              "    .colab-df-container {\n",
              "      display:flex;\n",
              "      flex-wrap:wrap;\n",
              "      gap: 12px;\n",
              "    }\n",
              "\n",
              "    .colab-df-convert {\n",
              "      background-color: #E8F0FE;\n",
              "      border: none;\n",
              "      border-radius: 50%;\n",
              "      cursor: pointer;\n",
              "      display: none;\n",
              "      fill: #1967D2;\n",
              "      height: 32px;\n",
              "      padding: 0 0 0 0;\n",
              "      width: 32px;\n",
              "    }\n",
              "\n",
              "    .colab-df-convert:hover {\n",
              "      background-color: #E2EBFA;\n",
              "      box-shadow: 0px 1px 2px rgba(60, 64, 67, 0.3), 0px 1px 3px 1px rgba(60, 64, 67, 0.15);\n",
              "      fill: #174EA6;\n",
              "    }\n",
              "\n",
              "    [theme=dark] .colab-df-convert {\n",
              "      background-color: #3B4455;\n",
              "      fill: #D2E3FC;\n",
              "    }\n",
              "\n",
              "    [theme=dark] .colab-df-convert:hover {\n",
              "      background-color: #434B5C;\n",
              "      box-shadow: 0px 1px 3px 1px rgba(0, 0, 0, 0.15);\n",
              "      filter: drop-shadow(0px 1px 2px rgba(0, 0, 0, 0.3));\n",
              "      fill: #FFFFFF;\n",
              "    }\n",
              "  </style>\n",
              "\n",
              "      <script>\n",
              "        const buttonEl =\n",
              "          document.querySelector('#df-be1db1b4-0996-4f5d-9eb9-5ce1869ab213 button.colab-df-convert');\n",
              "        buttonEl.style.display =\n",
              "          google.colab.kernel.accessAllowed ? 'block' : 'none';\n",
              "\n",
              "        async function convertToInteractive(key) {\n",
              "          const element = document.querySelector('#df-be1db1b4-0996-4f5d-9eb9-5ce1869ab213');\n",
              "          const dataTable =\n",
              "            await google.colab.kernel.invokeFunction('convertToInteractive',\n",
              "                                                     [key], {});\n",
              "          if (!dataTable) return;\n",
              "\n",
              "          const docLinkHtml = 'Like what you see? Visit the ' +\n",
              "            '<a target=\"_blank\" href=https://colab.research.google.com/notebooks/data_table.ipynb>data table notebook</a>'\n",
              "            + ' to learn more about interactive tables.';\n",
              "          element.innerHTML = '';\n",
              "          dataTable['output_type'] = 'display_data';\n",
              "          await google.colab.output.renderOutput(dataTable, element);\n",
              "          const docLink = document.createElement('div');\n",
              "          docLink.innerHTML = docLinkHtml;\n",
              "          element.appendChild(docLink);\n",
              "        }\n",
              "      </script>\n",
              "    </div>\n",
              "  </div>\n",
              "  "
            ]
          },
          "metadata": {},
          "execution_count": 3
        }
      ]
    },
    {
      "cell_type": "code",
      "source": [
        "import numpy as np\n",
        "import pandas as pd\n",
        "size = 300\n",
        "X = np.random.rand(size)*5-2.5\n",
        "w4, w3, w2, w1, w0 = 1, 2, 1, -4, 2\n",
        "y = w4*(X**4) + w3*(X**3) + w2*(X**2) + w1*X + w0 + np.random.randn(size)*8-4\n",
        "df = pd.DataFrame({'x': X, 'y': y})\n",
        "df.plot.scatter(x='x',y='y')"
      ],
      "metadata": {
        "colab": {
          "base_uri": "https://localhost:8080/",
          "height": 296
        },
        "id": "8--_LVRB8-Pd",
        "outputId": "908b1448-55e5-480a-a65b-717dee6109a0"
      },
      "execution_count": null,
      "outputs": [
        {
          "output_type": "execute_result",
          "data": {
            "text/plain": [
              "<matplotlib.axes._subplots.AxesSubplot at 0x7f949c034450>"
            ]
          },
          "metadata": {},
          "execution_count": 4
        },
        {
          "output_type": "display_data",
          "data": {
            "text/plain": [
              "<Figure size 432x288 with 1 Axes>"
            ],
            "image/png": "[encoded data removed]"
          },
          "metadata": {
            "needs_background": "light"
          }
        }
      ]
    },
    {
      "cell_type": "code",
      "source": [
        "from sklearn.model_selection import train_test_split\n",
        "X_bc_train, X_bc_test, y_bc_train, y_bc_test = train_test_split(X_bc, y_bc, test_size=0.2)"
      ],
      "metadata": {
        "id": "HRlJ8IRe8-R8"
      },
      "execution_count": null,
      "outputs": []
    },
    {
      "cell_type": "code",
      "source": [
        "from sklearn.tree import DecisionTreeClassifier"
      ],
      "metadata": {
        "id": "LJiO8ZxH8-Un"
      },
      "execution_count": null,
      "outputs": []
    },
    {
      "cell_type": "code",
      "source": [
        "from sklearn.metrics import f1_score"
      ],
      "metadata": {
        "id": "vMgfAHVp9cB9"
      },
      "execution_count": null,
      "outputs": []
    },
    {
      "cell_type": "code",
      "source": [
        "# f1s = []\n",
        "# for i in range(1, 20):\n",
        "#     tree_clf = DecisionTreeClassifier(max_depth=i,random_state=42)\n",
        "#     tree_clf.fit(X_bc_train, y_bc_train)\n",
        "#     y_pred_train = tree_clf.predict(X_bc_train)\n",
        "#     y_pred_test = tree_clf.predict(X_bc_test)\n",
        "#     f1_train = f1_score(y_bc_train, y_pred_train)\n",
        "#     f1_test = f1_score(y_bc_test, y_pred_test)\n",
        "#     f1s.append((i, f1_train, f1_test))\n",
        "# f1s\n",
        "# 3 najlepsze"
      ],
      "metadata": {
        "colab": {
          "base_uri": "https://localhost:8080/"
        },
        "id": "LlvIL3nh8-Xs",
        "outputId": "23c8670f-8bfc-494c-90f1-fcfb9bd0c77f"
      },
      "execution_count": null,
      "outputs": [
        {
          "output_type": "execute_result",
          "data": {
            "text/plain": [
              "[(1, 0.7741935483870968, 0.7536231884057971),\n",
              " (2, 0.8224956063268893, 0.7763157894736842),\n",
              " (3, 0.8321917808219177, 0.7974683544303798),\n",
              " (4, 0.8265682656826568, 0.7412587412587412),\n",
              " (5, 0.8606271777003482, 0.7105263157894737),\n",
              " (6, 0.8697247706422019, 0.7482993197278911),\n",
              " (7, 0.9068100358422939, 0.7162162162162162),\n",
              " (8, 0.9287020109689215, 0.7234042553191488),\n",
              " (9, 0.9492753623188406, 0.7310344827586208),\n",
              " (10, 0.9656419529837251, 0.6986301369863014),\n",
              " (11, 0.9805996472663139, 0.6853146853146853),\n",
              " (12, 0.9928825622775801, 0.7172413793103449),\n",
              " (13, 1.0, 0.6986301369863014),\n",
              " (14, 1.0, 0.6986301369863014),\n",
              " (15, 1.0, 0.6986301369863014),\n",
              " (16, 1.0, 0.6986301369863014),\n",
              " (17, 1.0, 0.6986301369863014),\n",
              " (18, 1.0, 0.6986301369863014),\n",
              " (19, 1.0, 0.6986301369863014)]"
            ]
          },
          "metadata": {},
          "execution_count": 12
        }
      ]
    },
    {
      "cell_type": "code",
      "source": [
        "tree_clf = DecisionTreeClassifier(max_depth=3,random_state=42)\n",
        "tree_clf.fit(X_bc_train, y_bc_train)\n",
        "y_pred_train = tree_clf.predict(X_bc_train)\n",
        "y_pred_test = tree_clf.predict(X_bc_test)\n",
        "f1_train = f1_score(y_bc_train, y_pred_train)\n",
        "f1_test = f1_score(y_bc_test, y_pred_test)"
      ],
      "metadata": {
        "id": "OqCPdRWP8-ax"
      },
      "execution_count": null,
      "outputs": []
    },
    {
      "cell_type": "code",
      "source": [
        "print(f1_train)\n",
        "print(f1_test)"
      ],
      "metadata": {
        "colab": {
          "base_uri": "https://localhost:8080/"
        },
        "id": "Z-dbxHs99iPo",
        "outputId": "eaacb5eb-7a9c-4479-e81c-3e083e453cd9"
      },
      "execution_count": null,
      "outputs": [
        {
          "output_type": "stream",
          "name": "stdout",
          "text": [
            "0.8415672913117547\n",
            "0.7870967741935484\n"
          ]
        }
      ]
    },
    {
      "cell_type": "code",
      "source": [
        "from sklearn.tree import export_graphviz\n",
        "import graphviz\n",
        "f = \"bc\"\n",
        "export_graphviz(\n",
        "        tree_clf,\n",
        "        out_file=f,\n",
        "        feature_names=data_breast_cancer.feature_names[[1, 8]],\n",
        "        class_names=[str(num)+\", \"+name\n",
        "                     for num,name in\n",
        "                     zip(set(data_breast_cancer.target),data_breast_cancer.target_names)],\n",
        "        rounded=True,\n",
        "        filled=True)\n",
        "print(f)"
      ],
      "metadata": {
        "id": "yQ4I5ugB9iSD",
        "colab": {
          "base_uri": "https://localhost:8080/"
        },
        "outputId": "f3d5bffb-b245-47af-afc4-834eb1586cf9"
      },
      "execution_count": null,
      "outputs": [
        {
          "output_type": "stream",
          "name": "stdout",
          "text": [
            "bc\n"
          ]
        }
      ]
    },
    {
      "cell_type": "code",
      "source": [
        "print(graphviz.render('dot', 'png', f))"
      ],
      "metadata": {
        "id": "WwZorWz99iUm",
        "colab": {
          "base_uri": "https://localhost:8080/"
        },
        "outputId": "10df40f4-7641-43fa-c876-c018e84135d0"
      },
      "execution_count": null,
      "outputs": [
        {
          "output_type": "stream",
          "name": "stdout",
          "text": [
            "bc.png\n"
          ]
        }
      ]
    },
    {
      "cell_type": "code",
      "source": [
        "acc_train = tree_clf.score(X_bc_train, y_bc_train)\n",
        "acc_test = tree_clf.score(X_bc_test, y_bc_test)"
      ],
      "metadata": {
        "id": "_IlKRKqr9iWw"
      },
      "execution_count": null,
      "outputs": []
    },
    {
      "cell_type": "code",
      "source": [
        "print(acc_train, acc_test)"
      ],
      "metadata": {
        "colab": {
          "base_uri": "https://localhost:8080/"
        },
        "id": "bGAiSKlH-a-e",
        "outputId": "45387a69-bba9-4c86-ac45-da5eab52237f"
      },
      "execution_count": null,
      "outputs": [
        {
          "output_type": "stream",
          "name": "stdout",
          "text": [
            "0.7956043956043956 0.7105263157894737\n"
          ]
        }
      ]
    },
    {
      "cell_type": "code",
      "source": [
        "import pickle\n",
        "f1acc_tree = [tree_clf.get_depth(),f1_train, f1_test,acc_train, acc_test]"
      ],
      "metadata": {
        "id": "OOKe4wwF-f3f"
      },
      "execution_count": null,
      "outputs": []
    },
    {
      "cell_type": "code",
      "source": [
        "with open('f1acc_tree.pkl', 'wb') as f:\n",
        "    pickle.dump(f1acc_tree, f, pickle.HIGHEST_PROTOCOL)"
      ],
      "metadata": {
        "id": "ynbp9I6m-f6B"
      },
      "execution_count": null,
      "outputs": []
    },
    {
      "cell_type": "code",
      "source": [
        "with open('f1acc_tree.pkl', 'rb') as f:\n",
        "    print(pickle.load(f))"
      ],
      "metadata": {
        "colab": {
          "base_uri": "https://localhost:8080/"
        },
        "id": "CimCc3px_OHF",
        "outputId": "c987a1c9-03b1-4bd0-bc51-4e7e26d7dee1"
      },
      "execution_count": null,
      "outputs": [
        {
          "output_type": "stream",
          "name": "stdout",
          "text": [
            "[3, 0.8415672913117547, 0.7870967741935484, 0.7956043956043956, 0.7105263157894737]\n"
          ]
        }
      ]
    },
    {
      "cell_type": "code",
      "source": [
        "#Regresja"
      ],
      "metadata": {
        "id": "bXo-WmcI_Qkn"
      },
      "execution_count": null,
      "outputs": []
    },
    {
      "cell_type": "code",
      "source": [
        "from sklearn.tree import DecisionTreeRegressor"
      ],
      "metadata": {
        "id": "gzZghbaK_fFA"
      },
      "execution_count": null,
      "outputs": []
    },
    {
      "cell_type": "code",
      "source": [
        "X_train, X_test, y_train, y_test = train_test_split(X, y, test_size=0.2)"
      ],
      "metadata": {
        "id": "kV8pkDEa_fKI"
      },
      "execution_count": null,
      "outputs": []
    },
    {
      "cell_type": "code",
      "source": [
        "from sklearn.metrics import mean_squared_error"
      ],
      "metadata": {
        "id": "UJ_N0UaKBLVi"
      },
      "execution_count": null,
      "outputs": []
    },
    {
      "cell_type": "code",
      "source": [
        "X_train= X_train.reshape(-1, 1)\n",
        "y_train= y_train.reshape(-1, 1)\n",
        "X_test = X_test.reshape(-1, 1)\n",
        "y_test = y_test.reshape(-1, 1)"
      ],
      "metadata": {
        "id": "jYG6fIMmBqQR"
      },
      "execution_count": null,
      "outputs": []
    },
    {
      "cell_type": "code",
      "source": [
        "# res= []\n",
        "# for i in range(1, 20):\n",
        "#     tree_reg = DecisionTreeRegressor(max_depth=i,random_state=42)\n",
        "#     tree_reg.fit(X_train, y_train)\n",
        "#     y_pred_train = tree_reg.predict(X_train)\n",
        "#     y_pred_test = tree_reg.predict(X_test)\n",
        "#     mse_train = mean_squared_error(y_train, y_pred_train)\n",
        "#     mse_test = mean_squared_error(y_test, y_pred_test)\n",
        "#     res.append((i, mse_train, mse_test))\n",
        "# res\n",
        "# 4 najlepszy"
      ],
      "metadata": {
        "id": "N63gbfwn_fND"
      },
      "execution_count": null,
      "outputs": []
    },
    {
      "cell_type": "code",
      "source": [
        "tree_reg = DecisionTreeRegressor(max_depth=4,random_state=42)\n",
        "tree_reg.fit(X_train, y_train)\n",
        "y_pred_train = tree_reg.predict(X_train)\n",
        "y_pred_test = tree_reg.predict(X_test)\n",
        "mse_train = mean_squared_error(y_train, y_pred_train)\n",
        "mse_test = mean_squared_error(y_test, y_pred_test)"
      ],
      "metadata": {
        "id": "6a7NgIYj_fPb"
      },
      "execution_count": null,
      "outputs": []
    },
    {
      "cell_type": "code",
      "source": [
        "print(mse_train)\n",
        "print(mse_test)"
      ],
      "metadata": {
        "colab": {
          "base_uri": "https://localhost:8080/"
        },
        "id": "uV7T8OmsDNzz",
        "outputId": "b9a19804-8a94-45fc-97b9-1e232001c591"
      },
      "execution_count": null,
      "outputs": [
        {
          "output_type": "stream",
          "name": "stdout",
          "text": [
            "47.23311800352414\n",
            "66.345327258335\n"
          ]
        }
      ]
    },
    {
      "cell_type": "code",
      "source": [
        "f = \"reg\"\n",
        "export_graphviz(\n",
        "        tree_reg,\n",
        "        out_file=f,\n",
        "        rounded=True,\n",
        "        filled=True)\n",
        "print(f)"
      ],
      "metadata": {
        "id": "OCUvhssiCWod",
        "colab": {
          "base_uri": "https://localhost:8080/"
        },
        "outputId": "5c8105ae-1464-457e-c3e3-c994394862c8"
      },
      "execution_count": null,
      "outputs": [
        {
          "output_type": "stream",
          "name": "stdout",
          "text": [
            "reg\n"
          ]
        }
      ]
    },
    {
      "cell_type": "code",
      "source": [
        "print(graphviz.render('dot', 'png', f))"
      ],
      "metadata": {
        "colab": {
          "base_uri": "https://localhost:8080/"
        },
        "id": "d6RU6a76gDzH",
        "outputId": "0698c759-a4a2-4bce-b576-f5aac1e1c82e"
      },
      "execution_count": null,
      "outputs": [
        {
          "output_type": "stream",
          "name": "stdout",
          "text": [
            "reg.png\n"
          ]
        }
      ]
    },
    {
      "cell_type": "code",
      "source": [
        "mse_tree = [tree_reg.get_depth(),mse_train, mse_test]"
      ],
      "metadata": {
        "id": "JzCqUzXhCsHD"
      },
      "execution_count": null,
      "outputs": []
    },
    {
      "cell_type": "code",
      "source": [
        "with open('mse_tree.pkl', 'wb') as f:\n",
        "    pickle.dump(mse_tree, f, pickle.HIGHEST_PROTOCOL)"
      ],
      "metadata": {
        "id": "LNb11WsDCsJZ"
      },
      "execution_count": null,
      "outputs": []
    },
    {
      "cell_type": "code",
      "source": [
        "with open('mse_tree.pkl', 'rb') as f:\n",
        "    print(pickle.load(f))"
      ],
      "metadata": {
        "colab": {
          "base_uri": "https://localhost:8080/"
        },
        "id": "jMXVpazSCsMC",
        "outputId": "5988b74f-391e-4312-8433-2cfe879c10b9"
      },
      "execution_count": null,
      "outputs": [
        {
          "output_type": "stream",
          "name": "stdout",
          "text": [
            "[4, 47.23311800352414, 66.345327258335]\n"
          ]
        }
      ]
    },
    {
      "cell_type": "code",
      "source": [],
      "metadata": {
        "id": "8LNHla-yDrcn"
      },
      "execution_count": null,
      "outputs": []
    }
  ]
}