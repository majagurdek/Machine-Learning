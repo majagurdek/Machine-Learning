{
  "cells": [
    {
      "cell_type": "markdown",
      "metadata": {
        "id": "view-in-github",
        "colab_type": "text"
      },
      "source": [
        "<a href=\"https://colab.research.google.com/github/majagurdek/Machine-Learning/blob/main/lab7.ipynb\" target=\"_parent\"><img src=\"https://colab.research.google.com/assets/colab-badge.svg\" alt=\"Open In Colab\"/></a>"
      ]
    },
    {
      "cell_type": "code",
      "execution_count": null,
      "id": "4421e516",
      "metadata": {
        "id": "4421e516"
      },
      "outputs": [],
      "source": [
        "import pandas as pd\n",
        "import numpy as np\n",
        "from sklearn.datasets import fetch_openml"
      ]
    },
    {
      "cell_type": "code",
      "execution_count": null,
      "id": "18166e9a",
      "metadata": {
        "id": "18166e9a"
      },
      "outputs": [],
      "source": [
        "mnist = fetch_openml('mnist_784', version=1, as_frame=False)\n",
        "mnist.target = mnist.target.astype(np.uint8)\n",
        "X = mnist[\"data\"]\n",
        "y = mnist[\"target\"]"
      ]
    },
    {
      "cell_type": "code",
      "execution_count": null,
      "id": "ad20c2d3",
      "metadata": {
        "id": "ad20c2d3"
      },
      "outputs": [],
      "source": [
        "#klasteryzacja"
      ]
    },
    {
      "cell_type": "code",
      "execution_count": null,
      "id": "990fb2ff",
      "metadata": {
        "id": "990fb2ff"
      },
      "outputs": [],
      "source": [
        "from sklearn.cluster import KMeans\n",
        "from sklearn.metrics import silhouette_score"
      ]
    },
    {
      "cell_type": "code",
      "execution_count": null,
      "id": "100c81b0",
      "metadata": {
        "id": "100c81b0"
      },
      "outputs": [],
      "source": [
        "kmeans_sil = []"
      ]
    },
    {
      "cell_type": "code",
      "execution_count": null,
      "id": "c51580b1",
      "metadata": {
        "id": "c51580b1"
      },
      "outputs": [],
      "source": [
        "kmeans8 = KMeans(n_clusters=8).fit(X)\n",
        "kmeans_sil.append(silhouette_score(X, kmeans8.labels_))"
      ]
    },
    {
      "cell_type": "code",
      "execution_count": null,
      "id": "1731041c",
      "metadata": {
        "id": "1731041c"
      },
      "outputs": [],
      "source": [
        "kmeans9 = KMeans(n_clusters=9).fit(X)\n",
        "kmeans_sil.append(silhouette_score(X, kmeans9.labels_))"
      ]
    },
    {
      "cell_type": "code",
      "execution_count": null,
      "id": "a4eaa9f7",
      "metadata": {
        "id": "a4eaa9f7"
      },
      "outputs": [],
      "source": [
        "kmeans10 = KMeans(n_clusters=10).fit(X)\n",
        "kmeans_sil.append(silhouette_score(X, kmeans10.labels_))"
      ]
    },
    {
      "cell_type": "code",
      "execution_count": null,
      "id": "ab686c4a",
      "metadata": {
        "id": "ab686c4a"
      },
      "outputs": [],
      "source": [
        "kmeans11 = KMeans(n_clusters=11).fit(X)\n",
        "kmeans_sil.append(silhouette_score(X, kmeans11.labels_))"
      ]
    },
    {
      "cell_type": "code",
      "execution_count": null,
      "id": "cc26d775",
      "metadata": {
        "id": "cc26d775"
      },
      "outputs": [],
      "source": [
        "kmeans12 = KMeans(n_clusters=12).fit(X)\n",
        "kmeans_sil.append(silhouette_score(X, kmeans12.labels_))"
      ]
    },
    {
      "cell_type": "code",
      "execution_count": null,
      "id": "b6f9736e",
      "metadata": {
        "id": "b6f9736e"
      },
      "outputs": [],
      "source": [
        "import pickle"
      ]
    },
    {
      "cell_type": "code",
      "execution_count": null,
      "id": "71e723ea",
      "metadata": {
        "id": "71e723ea"
      },
      "outputs": [],
      "source": [
        "with open('kmeans_sil.pkl', 'wb') as f:\n",
        "    pickle.dump(kmeans_sil, f, pickle.HIGHEST_PROTOCOL)"
      ]
    },
    {
      "cell_type": "code",
      "execution_count": null,
      "id": "9d41656d",
      "metadata": {
        "colab": {
          "base_uri": "https://localhost:8080/"
        },
        "id": "9d41656d",
        "outputId": "7bb6986c-2bca-4b62-fa23-8e271366b1d2"
      },
      "outputs": [
        {
          "output_type": "stream",
          "name": "stdout",
          "text": [
            "[0.07336530737826967, 0.0568164685794118, 0.05628448814090457, 0.05834363268351162, 0.05819727577736494]\n"
          ]
        }
      ],
      "source": [
        "with open('kmeans_sil.pkl', 'rb') as f:\n",
        "    print(pickle.load(f))"
      ]
    },
    {
      "cell_type": "code",
      "execution_count": null,
      "id": "9e6a1d0e",
      "metadata": {
        "id": "9e6a1d0e"
      },
      "outputs": [],
      "source": [
        "#macierz bledow"
      ]
    },
    {
      "cell_type": "code",
      "execution_count": null,
      "id": "740ed38e",
      "metadata": {
        "collapsed": true,
        "colab": {
          "base_uri": "https://localhost:8080/"
        },
        "id": "740ed38e",
        "outputId": "9fabf86d-8195-4639-8a48-1af280a3eb46"
      },
      "outputs": [
        {
          "output_type": "execute_result",
          "data": {
            "text/plain": [
              "array([[  44,  624,   29,  286,    0,   15, 5499,  264,  105,   37],\n",
              "       [  10,    7,    7,   11, 4369,    8,    0,   11,    3, 3451],\n",
              "       [4902,  157,   75,  456,  369,   45,   75,  175,  270,  466],\n",
              "       [ 261, 1381,   42, 4592,  417,  180,   37,   66,   69,   96],\n",
              "       [  17,   13, 1785,    0,  112, 1933,    4,  150, 2537,  273],\n",
              "       [  21, 2161,  327, 2067,  131,  358,   69,  154,  207,  818],\n",
              "       [  79,  163,    1,   35,  275,    4,   90, 5281,  720,  228],\n",
              "       [  42,    4, 3374,    3,  246, 2711,   14,    4,  603,  292],\n",
              "       [  50, 3670,  261, 1598,  293,  254,   36,   61,  153,  449],\n",
              "       [   5,   56, 1995,   92,  147, 2977,   38,   10, 1550,   88]])"
            ]
          },
          "metadata": {},
          "execution_count": 15
        }
      ],
      "source": [
        "from sklearn.metrics import confusion_matrix\n",
        "matrix = confusion_matrix(y, kmeans10.predict(X))\n",
        "matrix"
      ]
    },
    {
      "cell_type": "code",
      "execution_count": null,
      "id": "70a0fc25",
      "metadata": {
        "colab": {
          "base_uri": "https://localhost:8080/"
        },
        "id": "70a0fc25",
        "outputId": "a354184f-2173-42e7-84c3-5537514713b0"
      },
      "outputs": [
        {
          "output_type": "execute_result",
          "data": {
            "text/plain": [
              "array([6, 4, 0, 3, 8, 1, 7, 2, 1, 5])"
            ]
          },
          "metadata": {},
          "execution_count": 16
        }
      ],
      "source": [
        "ind = np.argmax(matrix, axis=-1)\n",
        "ind"
      ]
    },
    {
      "cell_type": "code",
      "execution_count": null,
      "id": "b1d1cef7",
      "metadata": {
        "colab": {
          "base_uri": "https://localhost:8080/"
        },
        "id": "b1d1cef7",
        "outputId": "08e7ac78-4062-4a96-ce53-06d99420e48f"
      },
      "outputs": [
        {
          "output_type": "execute_result",
          "data": {
            "text/plain": [
              "array([0, 1, 2, 3, 4, 5, 6, 7, 8])"
            ]
          },
          "metadata": {},
          "execution_count": 17
        }
      ],
      "source": [
        "ind2 = np.unique(ind)\n",
        "ind2"
      ]
    },
    {
      "cell_type": "code",
      "execution_count": null,
      "id": "edfab22b",
      "metadata": {
        "id": "edfab22b"
      },
      "outputs": [],
      "source": [
        "with open('kmeans_argmax.pkl', 'wb') as f:\n",
        "    pickle.dump(ind2, f, pickle.HIGHEST_PROTOCOL)"
      ]
    },
    {
      "cell_type": "code",
      "execution_count": null,
      "id": "d1682582",
      "metadata": {
        "colab": {
          "base_uri": "https://localhost:8080/"
        },
        "id": "d1682582",
        "outputId": "6129e719-d633-47ec-e4b0-8d1e665a14da"
      },
      "outputs": [
        {
          "output_type": "stream",
          "name": "stdout",
          "text": [
            "[0 1 2 3 4 5 6 7 8]\n"
          ]
        }
      ],
      "source": [
        "with open('kmeans_argmax.pkl', 'rb') as f:\n",
        "    print(pickle.load(f))"
      ]
    },
    {
      "cell_type": "code",
      "execution_count": null,
      "id": "ed5bb037",
      "metadata": {
        "id": "ed5bb037"
      },
      "outputs": [],
      "source": [
        "#DBSCAN"
      ]
    },
    {
      "cell_type": "code",
      "source": [
        "dist = []\n",
        "\n",
        "for i in range(300):\n",
        "    for j in X:\n",
        "        if not ((X[i]==j).all()):\n",
        "          dist.append(np.linalg.norm(X[i] - j))"
      ],
      "metadata": {
        "id": "a9z-j-uyJ9za"
      },
      "id": "a9z-j-uyJ9za",
      "execution_count": null,
      "outputs": []
    },
    {
      "cell_type": "code",
      "source": [
        "dist_s = np.unique(dist)[:10]\n",
        "dist_s"
      ],
      "metadata": {
        "colab": {
          "base_uri": "https://localhost:8080/"
        },
        "id": "0kUe_JVJJ96A",
        "outputId": "db347adf-0b12-4fe3-d967-7158e941b33e"
      },
      "id": "0kUe_JVJJ96A",
      "execution_count": null,
      "outputs": [
        {
          "output_type": "execute_result",
          "data": {
            "text/plain": [
              "array([279.26152617, 304.3764117 , 317.5893575 , 328.76587414,\n",
              "       333.45464459, 352.89800226, 355.17742045, 358.0740147 ,\n",
              "       359.64287842, 360.42474943])"
            ]
          },
          "metadata": {},
          "execution_count": 50
        }
      ]
    },
    {
      "cell_type": "code",
      "source": [
        "with open('dist.pkl', 'wb') as f:\n",
        "    pickle.dump(dist_s, f, pickle.HIGHEST_PROTOCOL)"
      ],
      "metadata": {
        "id": "lBmj6f36J-BN"
      },
      "id": "lBmj6f36J-BN",
      "execution_count": null,
      "outputs": []
    },
    {
      "cell_type": "code",
      "source": [
        "with open('dist.pkl', 'rb') as f:\n",
        "    print(pickle.load(f))"
      ],
      "metadata": {
        "colab": {
          "base_uri": "https://localhost:8080/"
        },
        "id": "2rK3M8bKLwNw",
        "outputId": "563e58d7-7fac-4540-dc14-f0b6652506ce"
      },
      "id": "2rK3M8bKLwNw",
      "execution_count": null,
      "outputs": [
        {
          "output_type": "stream",
          "name": "stdout",
          "text": [
            "[279.26152617 304.3764117  317.5893575  328.76587414 333.45464459\n",
            " 352.89800226 355.17742045 358.0740147  359.64287842 360.42474943]\n"
          ]
        }
      ]
    },
    {
      "cell_type": "code",
      "source": [
        "s  = (dist_s[0]+dist_s[1]+dist_s[2])/3\n",
        "s"
      ],
      "metadata": {
        "colab": {
          "base_uri": "https://localhost:8080/"
        },
        "id": "CKum4s1zNw7H",
        "outputId": "457a72f6-896b-4a47-f3f1-2e2b9664e601"
      },
      "id": "CKum4s1zNw7H",
      "execution_count": null,
      "outputs": [
        {
          "output_type": "execute_result",
          "data": {
            "text/plain": [
              "300.40909845916684"
            ]
          },
          "metadata": {},
          "execution_count": 53
        }
      ]
    },
    {
      "cell_type": "code",
      "source": [
        "from sklearn.cluster import DBSCAN\n",
        "db_len = []"
      ],
      "metadata": {
        "id": "4F0YUF49Nw9l"
      },
      "id": "4F0YUF49Nw9l",
      "execution_count": null,
      "outputs": []
    },
    {
      "cell_type": "code",
      "source": [
        "# dbscan1 = DBSCAN(eps=s)\n",
        "# dbscan1.fit(X)\n",
        "# db_len.append(len(set(dbscan1.labels_)))\n",
        "\n",
        "# dbscan2 = DBSCAN(eps=1.04*s)\n",
        "# dbscan2.fit(X)\n",
        "# db_len.append(len(set(dbscan2.labels_)))\n",
        "\n",
        "# dbscan3 = DBSCAN(eps=1.08*s)\n",
        "# dbscan3.fit(X)\n",
        "# db_len.append(len(set(dbscan3.labels_)))"
      ],
      "metadata": {
        "id": "4t-lC1SrOAd7"
      },
      "id": "4t-lC1SrOAd7",
      "execution_count": null,
      "outputs": []
    },
    {
      "cell_type": "code",
      "source": [
        "for i in (s, 1.04*s, 1.08*s):\n",
        "   dbscan = DBSCAN(eps=i)\n",
        "   dbscan.fit(X)\n",
        "   db_len.append(len(set(dbscan.labels_)))"
      ],
      "metadata": {
        "id": "3Vk0NZIkacly"
      },
      "id": "3Vk0NZIkacly",
      "execution_count": null,
      "outputs": []
    },
    {
      "cell_type": "code",
      "source": [
        "with open('dbscan_len.pkl', 'wb') as f:\n",
        "    pickle.dump(db_len, f, pickle.HIGHEST_PROTOCOL)"
      ],
      "metadata": {
        "id": "9gDSlqJ3OAgV"
      },
      "id": "9gDSlqJ3OAgV",
      "execution_count": null,
      "outputs": []
    },
    {
      "cell_type": "code",
      "source": [
        "with open('dbscan_len.pkl', 'rb') as f:\n",
        "    print(pickle.load(f))"
      ],
      "metadata": {
        "colab": {
          "base_uri": "https://localhost:8080/"
        },
        "id": "tAkaeWADNxAT",
        "outputId": "5d5304bc-8a77-4c49-cfaf-95531cbf59d7"
      },
      "id": "tAkaeWADNxAT",
      "execution_count": null,
      "outputs": [
        {
          "output_type": "stream",
          "name": "stdout",
          "text": [
            "[4, 7, 22]\n"
          ]
        }
      ]
    },
    {
      "cell_type": "code",
      "source": [],
      "metadata": {
        "id": "sE-hJ_ileJu3"
      },
      "id": "sE-hJ_ileJu3",
      "execution_count": null,
      "outputs": []
    }
  ],
  "metadata": {
    "kernelspec": {
      "display_name": "Python 3 (ipykernel)",
      "language": "python",
      "name": "python3"
    },
    "language_info": {
      "codemirror_mode": {
        "name": "ipython",
        "version": 3
      },
      "file_extension": ".py",
      "mimetype": "text/x-python",
      "name": "python",
      "nbconvert_exporter": "python",
      "pygments_lexer": "ipython3",
      "version": "3.9.10"
    },
    "colab": {
      "provenance": [],
      "include_colab_link": true
    }
  },
  "nbformat": 4,
  "nbformat_minor": 5
}