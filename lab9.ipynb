{
  "cells": [
    {
      "cell_type": "markdown",
      "metadata": {
        "id": "view-in-github",
        "colab_type": "text"
      },
      "source": [
        "<a href=\"https://colab.research.google.com/github/majagurdek/Machine-Learning/blob/main/lab9.ipynb\" target=\"_parent\"><img src=\"https://colab.research.google.com/assets/colab-badge.svg\" alt=\"Open In Colab\"/></a>"
      ]
    },
    {
      "cell_type": "code",
      "execution_count": null,
      "metadata": {
        "id": "x45RGJ3LbIen"
      },
      "outputs": [],
      "source": [
        "import pandas as pd\n",
        "import numpy as np\n",
        "import tensorflow as tf\n",
        "import keras\n",
        "import pickle"
      ]
    },
    {
      "cell_type": "code",
      "execution_count": null,
      "metadata": {
        "id": "sebTsNC5fAm1"
      },
      "outputs": [],
      "source": [
        "#perceptrony i irysy"
      ]
    },
    {
      "cell_type": "code",
      "execution_count": null,
      "metadata": {
        "id": "Dte-V7CebKqM"
      },
      "outputs": [],
      "source": [
        "from sklearn.datasets import load_iris\n",
        "iris = load_iris(as_frame=True)"
      ]
    },
    {
      "cell_type": "code",
      "execution_count": null,
      "metadata": {
        "colab": {
          "base_uri": "https://localhost:8080/",
          "height": 275
        },
        "id": "TW8jVOKzbKsz",
        "outputId": "bd331492-0612-4046-82d4-d33c6917634a"
      },
      "outputs": [
        {
          "data": {
            "text/plain": [
              "<matplotlib.axes._subplots.AxesSubplot at 0x7f7bd891f250>"
            ]
          },
          "execution_count": 4,
          "metadata": {},
          "output_type": "execute_result"
        },
        {
          "data": {
            "image/png": "[encoded data removed]",
            "text/plain": [
              "<Figure size 432x288 with 2 Axes>"
            ]
          },
          "metadata": {},
          "output_type": "display_data"
        }
      ],
      "source": [
        "pd.concat([iris.data, iris.target], axis=1).plot.scatter(\n",
        "x='petal length (cm)',\n",
        "y='petal width (cm)',\n",
        "c='target',\n",
        "colormap='viridis'\n",
        ")"
      ]
    },
    {
      "cell_type": "code",
      "execution_count": null,
      "metadata": {
        "colab": {
          "base_uri": "https://localhost:8080/"
        },
        "id": "R7tS_w9OdG2g",
        "outputId": "559af56c-27b1-40aa-ae1a-040cd1109eda"
      },
      "outputs": [
        {
          "name": "stdout",
          "output_type": "stream",
          "text": [
            "['sepal length (cm)', 'sepal width (cm)', 'petal length (cm)', 'petal width (cm)']\n"
          ]
        }
      ],
      "source": [
        "print(iris.feature_names)"
      ]
    },
    {
      "cell_type": "code",
      "execution_count": null,
      "metadata": {
        "id": "zOmLGQRJbKvy"
      },
      "outputs": [],
      "source": [
        "from sklearn.model_selection import train_test_split\n",
        "\n",
        "X_train, X_test, y_train, y_test = train_test_split(iris.data[[\"petal length (cm)\", \"petal width (cm)\"]], iris.target, test_size=0.2)"
      ]
    },
    {
      "cell_type": "code",
      "execution_count": null,
      "metadata": {
        "id": "bZ0AH0V7bKyu"
      },
      "outputs": [],
      "source": [
        "from sklearn.linear_model import Perceptron\n",
        "\n",
        "y_train_0 = (y_train == 0).astype(int)\n",
        "y_train_1 = (y_train == 1).astype(int)\n",
        "y_train_2 = (y_train == 2).astype(int)\n",
        "\n",
        "y_test_0 = (y_test == 0).astype(int)\n",
        "y_test_1 = (y_test == 1).astype(int)\n",
        "y_test_2 = (y_test == 2).astype(int)"
      ]
    },
    {
      "cell_type": "code",
      "execution_count": null,
      "metadata": {
        "colab": {
          "base_uri": "https://localhost:8080/"
        },
        "id": "FBqHncdUdfeP",
        "outputId": "43f11ad7-f839-4c5f-89d3-6fb0383e4556"
      },
      "outputs": [
        {
          "data": {
            "text/plain": [
              "Perceptron()"
            ]
          },
          "execution_count": 8,
          "metadata": {},
          "output_type": "execute_result"
        }
      ],
      "source": [
        "per_clf_0 = Perceptron()\n",
        "per_clf_0.fit(X_train, y_train_0)\n",
        "\n",
        "per_clf_1 = Perceptron()\n",
        "per_clf_1.fit(X_train, y_train_1)\n",
        "\n",
        "per_clf_2 = Perceptron()\n",
        "per_clf_2.fit(X_train, y_train_2)"
      ]
    },
    {
      "cell_type": "code",
      "execution_count": null,
      "metadata": {
        "id": "DCXYpvpFgANp"
      },
      "outputs": [],
      "source": [
        "y_pred_train_0 = per_clf_0.predict(X_train)\n",
        "y_pred_test_0 = per_clf_0.predict(X_test)\n",
        "\n",
        "y_pred_train_1 = per_clf_1.predict(X_train)\n",
        "y_pred_test_1 = per_clf_1.predict(X_test)\n",
        "\n",
        "y_pred_train_2 = per_clf_2.predict(X_train)\n",
        "y_pred_test_2 = per_clf_2.predict(X_test)"
      ]
    },
    {
      "cell_type": "code",
      "execution_count": null,
      "metadata": {
        "id": "21vz_WXddfgZ"
      },
      "outputs": [],
      "source": [
        "from sklearn.metrics import accuracy_score\n",
        "\n",
        "acc_train_0 = accuracy_score(y_train_0, y_pred_train_0)\n",
        "acc_test_0 = accuracy_score(y_test_0, y_pred_test_0)\n",
        "\n",
        "acc_train_1 = accuracy_score(y_train_1, y_pred_train_1)\n",
        "acc_test_1 = accuracy_score(y_test_1, y_pred_test_1)\n",
        "\n",
        "acc_train_2 = accuracy_score(y_train_2, y_pred_train_2)\n",
        "acc_test_2 = accuracy_score(y_test_2, y_pred_test_2)"
      ]
    },
    {
      "cell_type": "code",
      "execution_count": null,
      "metadata": {
        "id": "MyQavOhQdfid"
      },
      "outputs": [],
      "source": [
        "per_acc = [(acc_train_0, acc_test_0), (acc_train_1, acc_test_1), (acc_train_2, acc_test_2)]"
      ]
    },
    {
      "cell_type": "code",
      "execution_count": null,
      "metadata": {
        "id": "4O6nmqmKbK4_"
      },
      "outputs": [],
      "source": [
        "with open('per_acc.pkl', 'wb') as f:\n",
        "    pickle.dump(per_acc, f, pickle.HIGHEST_PROTOCOL)"
      ]
    },
    {
      "cell_type": "code",
      "execution_count": null,
      "metadata": {
        "colab": {
          "base_uri": "https://localhost:8080/"
        },
        "id": "yyIgOmwnhn3o",
        "outputId": "84d3c9bb-4b67-4660-d9aa-18d6b314cd1b"
      },
      "outputs": [
        {
          "name": "stdout",
          "output_type": "stream",
          "text": [
            "[(1.0, 1.0), (0.7, 0.5333333333333333), (0.8666666666666667, 0.8333333333333334)]\n"
          ]
        }
      ],
      "source": [
        "with open('per_acc.pkl', 'rb') as f:\n",
        "    print(pickle.load(f))"
      ]
    },
    {
      "cell_type": "code",
      "execution_count": null,
      "metadata": {
        "id": "ybxaJGBkhn8X"
      },
      "outputs": [],
      "source": [
        "w_0_0 = per_clf_0.intercept_[0]\n",
        "w_0_1 = per_clf_0.coef_[0, 0]\n",
        "w_0_2 = per_clf_0.coef_[0, 1]"
      ]
    },
    {
      "cell_type": "code",
      "execution_count": null,
      "metadata": {
        "id": "OnL-Qtnejv8D"
      },
      "outputs": [],
      "source": [
        "w_1_0 = per_clf_1.intercept_[0]\n",
        "w_1_1 = per_clf_1.coef_[0, 0]\n",
        "w_1_2 = per_clf_1.coef_[0, 1]"
      ]
    },
    {
      "cell_type": "code",
      "execution_count": null,
      "metadata": {
        "id": "ww5eaOKWjwGj"
      },
      "outputs": [],
      "source": [
        "w_2_0 = per_clf_2.intercept_[0]\n",
        "w_2_1 = per_clf_2.coef_[0, 0]\n",
        "w_2_2 = per_clf_2.coef_[0, 1]"
      ]
    },
    {
      "cell_type": "code",
      "execution_count": null,
      "metadata": {
        "id": "f5lZF31Ahn6G"
      },
      "outputs": [],
      "source": [
        "per_wght = [(w_0_0, w_0_1, w_0_2),(w_1_0,w_1_1,w_1_2),(w_2_0,w_2_1,w_2_2)]"
      ]
    },
    {
      "cell_type": "code",
      "execution_count": null,
      "metadata": {
        "id": "xLhz_GuZhoDK"
      },
      "outputs": [],
      "source": [
        "with open('per_wght.pkl', 'wb') as f:\n",
        "    pickle.dump(per_wght, f, pickle.HIGHEST_PROTOCOL)"
      ]
    },
    {
      "cell_type": "code",
      "execution_count": null,
      "metadata": {
        "colab": {
          "base_uri": "https://localhost:8080/"
        },
        "id": "TPCIwrmZhoFM",
        "outputId": "a610dc91-047f-426e-e05e-6651cc58ba3f"
      },
      "outputs": [
        {
          "name": "stdout",
          "output_type": "stream",
          "text": [
            "[(7.0, -2.6, -3.999999999999999), (-8.0, 0.500000000000016, -14.699999999999996), (-47.0, 3.3999999999999773, 23.700000000000003)]\n"
          ]
        }
      ],
      "source": [
        "with open('per_wght.pkl', 'rb') as f:\n",
        "    print(pickle.load(f))"
      ]
    },
    {
      "cell_type": "code",
      "execution_count": null,
      "metadata": {
        "id": "fRNp8f_hhoHH"
      },
      "outputs": [],
      "source": [
        "#Perceptron i XOR"
      ]
    },
    {
      "cell_type": "code",
      "execution_count": null,
      "metadata": {
        "id": "nzpfVJczkUQA"
      },
      "outputs": [],
      "source": [
        "X = np.array([[0, 0],\n",
        "[0, 1],\n",
        "[1, 0],\n",
        "[1, 1]])\n",
        "y = np.array([0,\n",
        "1,\n",
        "1,\n",
        "0])"
      ]
    },
    {
      "cell_type": "code",
      "execution_count": null,
      "metadata": {
        "colab": {
          "base_uri": "https://localhost:8080/"
        },
        "id": "TbvIA7QQkUS7",
        "outputId": "587feb60-20fc-4429-9caf-9c5eb5dd72b2"
      },
      "outputs": [
        {
          "name": "stdout",
          "output_type": "stream",
          "text": [
            "[0 0 0 0]\n"
          ]
        }
      ],
      "source": [
        "per_clf_xor = Perceptron()\n",
        "per_clf_xor.fit(X,y)\n",
        "print(per_clf_xor.predict(X))"
      ]
    },
    {
      "cell_type": "code",
      "execution_count": null,
      "metadata": {
        "colab": {
          "base_uri": "https://localhost:8080/"
        },
        "id": "ZKGN8pNwkUVx",
        "outputId": "a3bedbb3-24a1-4bb2-a08d-6a3e435cb5c1"
      },
      "outputs": [
        {
          "name": "stdout",
          "output_type": "stream",
          "text": [
            "0.0 0.0 0.0\n"
          ]
        }
      ],
      "source": [
        "print(per_clf_xor.intercept_[0], per_clf_xor.coef_[0][0], per_clf_xor.coef_[0][1])"
      ]
    },
    {
      "cell_type": "code",
      "execution_count": null,
      "metadata": {
        "id": "9KcxP59PkUYU"
      },
      "outputs": [],
      "source": [
        "#XOR, drugie podejście"
      ]
    },
    {
      "cell_type": "code",
      "execution_count": null,
      "metadata": {
        "id": "6LraWPFBkUbA"
      },
      "outputs": [],
      "source": [
        "model = keras.models.Sequential()\n",
        "model.add(keras.layers.Dense(2, activation=\"tanh\", input_dim=2))\n",
        "model.add(keras.layers.Dense(1, activation=\"sigmoid\"))"
      ]
    },
    {
      "cell_type": "code",
      "execution_count": null,
      "metadata": {
        "id": "mrVdAUfqkUdy"
      },
      "outputs": [],
      "source": [
        "model.compile(loss=\"binary_crossentropy\",optimizer=\"sgd\")"
      ]
    },
    {
      "cell_type": "code",
      "execution_count": null,
      "metadata": {
        "colab": {
          "base_uri": "https://localhost:8080/"
        },
        "id": "H9TrjORckUgv",
        "outputId": "899087d8-c38a-4b9e-a114-ce5b0733d65e"
      },
      "outputs": [
        {
          "name": "stdout",
          "output_type": "stream",
          "text": [
            "[0.7696276903152466, 0.7694072127342224, 0.7691875696182251, 0.7689687013626099, 0.7687505483627319, 0.7685331702232361, 0.7683166265487671, 0.7681007385253906, 0.767885684967041, 0.7676713466644287, 0.7674577236175537, 0.7672448754310608, 0.7670327425003052, 0.7668212652206421, 0.7666106820106506, 0.7664006948471069, 0.7661914825439453, 0.765982985496521, 0.7657751441001892, 0.7655680775642395, 0.7653616666793823, 0.7651559710502625, 0.7649509906768799, 0.7647466659545898, 0.7645429968833923, 0.7643400430679321, 0.7641377449035645, 0.7639361619949341, 0.7637352347373962, 0.7635350227355957, 0.7633353471755981, 0.7631363868713379, 0.7629381418228149, 0.7627404928207397, 0.7625435590744019, 0.7623472213745117, 0.7621514797210693, 0.7619563341140747, 0.7617619633674622, 0.7615680694580078, 0.7613750100135803, 0.761182427406311, 0.7609905004501343, 0.7607991695404053, 0.7606084942817688, 0.7604182958602905, 0.7602288722991943, 0.7600399851799011, 0.7598516941070557, 0.7596639394760132, 0.759476900100708, 0.759290337562561, 0.7591043710708618, 0.7589190602302551, 0.7587342858314514, 0.7585501074790955, 0.7583664059638977, 0.7581834197044373, 0.7580009698867798, 0.7578189969062805, 0.757637619972229, 0.7574568390846252, 0.7572765350341797, 0.7570968270301819, 0.7569177150726318, 0.7567391395568848, 0.7565611004829407, 0.7563835382461548, 0.7562065720558167, 0.7560300827026367, 0.7558542490005493, 0.7556788325309753, 0.7555039525032043, 0.7553296089172363, 0.7551557421684265, 0.7549824714660645, 0.7548097372055054, 0.7546374201774597, 0.754465639591217, 0.7542943954467773, 0.7541236281394958, 0.7539533972740173, 0.753783643245697, 0.7536143064498901, 0.7534456253051758, 0.7532773613929749, 0.7531095743179321, 0.7529422640800476, 0.7527753710746765, 0.7526090741157532, 0.7524431943893433, 0.7522778511047363, 0.7521129250526428, 0.7519485354423523, 0.7517845630645752, 0.7516210079193115, 0.7514580488204956, 0.7512953877449036, 0.7511332631111145, 0.7509716749191284]\n"
          ]
        }
      ],
      "source": [
        "history = model.fit(X, y, epochs=100, verbose=False)\n",
        "print(history.history['loss'])"
      ]
    },
    {
      "cell_type": "code",
      "execution_count": null,
      "metadata": {
        "colab": {
          "base_uri": "https://localhost:8080/"
        },
        "id": "pVpeb78joj9V",
        "outputId": "493420d8-b7cf-4301-ba4c-9dd734295db4"
      },
      "outputs": [
        {
          "data": {
            "text/plain": [
              "array([[0.50688624],\n",
              "       [0.6042895 ],\n",
              "       [0.3428156 ],\n",
              "       [0.51420176]], dtype=float32)"
            ]
          },
          "execution_count": 28,
          "metadata": {},
          "output_type": "execute_result"
        }
      ],
      "source": [
        "model.predict(X)"
      ]
    },
    {
      "cell_type": "code",
      "execution_count": null,
      "metadata": {
        "colab": {
          "background_save": true,
          "base_uri": "https://localhost:8080/"
        },
        "id": "2sAwUOtukUk8",
        "outputId": "c4b17c9b-461a-44f4-f304-550f0c5d98f5"
      },
      "outputs": [
        {
          "name": "stdout",
          "output_type": "stream",
          "text": [
            "WARNING:tensorflow:5 out of the last 11 calls to <function Model.make_predict_function.<locals>.predict_function at 0x7f7bd3ba37a0> triggered tf.function retracing. Tracing is expensive and the excessive number of tracings could be due to (1) creating @tf.function repeatedly in a loop, (2) passing tensors with different shapes, (3) passing Python objects instead of tensors. For (1), please define your @tf.function outside of the loop. For (2), @tf.function has experimental_relax_shapes=True option that relaxes argument shapes that can avoid unnecessary retracing. For (3), please refer to https://www.tensorflow.org/guide/function#controlling_retracing and https://www.tensorflow.org/api_docs/python/tf/function for  more details.\n",
            "WARNING:tensorflow:5 out of the last 13 calls to <function Model.make_predict_function.<locals>.predict_function at 0x7f7bd39f97a0> triggered tf.function retracing. Tracing is expensive and the excessive number of tracings could be due to (1) creating @tf.function repeatedly in a loop, (2) passing tensors with different shapes, (3) passing Python objects instead of tensors. For (1), please define your @tf.function outside of the loop. For (2), @tf.function has experimental_relax_shapes=True option that relaxes argument shapes that can avoid unnecessary retracing. For (3), please refer to https://www.tensorflow.org/guide/function#controlling_retracing and https://www.tensorflow.org/api_docs/python/tf/function for  more details.\n"
          ]
        }
      ],
      "source": [
        "model_exp = keras.models.Sequential()\n",
        "model_exp.add(keras.layers.Dense(2, activation=\"tanh\", input_dim=2))\n",
        "model_exp.add(keras.layers.Dense(1, activation=\"sigmoid\"))\n",
        "\n",
        "z = False\n",
        "while not z:\n",
        "  model_exp.compile(loss=\"binary_crossentropy\",optimizer=tf.keras.optimizers.Adam(learning_rate=0.15))\n",
        "  history = model_exp.fit(X, y, epochs=100, verbose=False)\n",
        "  if model_exp.predict(X)[0]<0.1 and model_exp.predict(X)[1]>0.9 and model_exp.predict(X)[2]>0.9 and model_exp.predict(X)[0]<0.1:\n",
        "    z = True"
      ]
    },
    {
      "cell_type": "code",
      "execution_count": null,
      "metadata": {
        "id": "DN1B_hcXkUnL"
      },
      "outputs": [],
      "source": [
        "model_exp.predict(X)"
      ]
    },
    {
      "cell_type": "code",
      "execution_count": null,
      "metadata": {
        "id": "u0DmbBFisF_D"
      },
      "outputs": [],
      "source": [
        "weights=model_exp.get_weights()\n",
        "weights"
      ]
    },
    {
      "cell_type": "code",
      "execution_count": null,
      "metadata": {
        "id": "C9HjJz_trtQB"
      },
      "outputs": [],
      "source": [
        "with open('mlp_xor_weights.pkl', 'wb') as f:\n",
        "    pickle.dump(weights, f, pickle.HIGHEST_PROTOCOL)"
      ]
    },
    {
      "cell_type": "code",
      "execution_count": null,
      "metadata": {
        "id": "Fx45C7O3r0GV"
      },
      "outputs": [],
      "source": [
        "with open('mlp_xor_weights.pkl', 'rb') as f:\n",
        "    print(pickle.load(f))"
      ]
    },
    {
      "cell_type": "code",
      "execution_count": null,
      "metadata": {
        "id": "4pJm0Y6IsBWZ"
      },
      "outputs": [],
      "source": []
    }
  ],
  "metadata": {
    "colab": {
      "provenance": [],
      "authorship_tag": "ABX9TyNUD1tbBt0roU5KdTTHpcdE",
      "include_colab_link": true
    },
    "kernelspec": {
      "display_name": "Python 3",
      "name": "python3"
    },
    "language_info": {
      "name": "python"
    }
  },
  "nbformat": 4,
  "nbformat_minor": 0
}